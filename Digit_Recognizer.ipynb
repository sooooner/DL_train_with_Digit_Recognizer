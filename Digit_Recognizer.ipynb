{
 "cells": [
  {
   "cell_type": "code",
   "execution_count": 1,
   "metadata": {},
   "outputs": [],
   "source": [
    "import csv\n",
    "import numpy as np\n",
    "import pandas as pd\n",
    "import matplotlib.pyplot as plt\n",
    "import seaborn as sns\n",
    "\n",
    "%matplotlib inline"
   ]
  },
  {
   "cell_type": "markdown",
   "metadata": {},
   "source": [
    "# Introduction"
   ]
  },
  {
   "cell_type": "markdown",
   "metadata": {},
   "source": [
    "### [DIGIT Recognizer](https://www.kaggle.com/c/digit-recognizer)\n",
    "<img src=\"images/front_page.png\" style=\"width:350px;height:200px;\">"
   ]
  },
  {
   "cell_type": "markdown",
   "metadata": {},
   "source": [
    "# Data load & Pretreatment"
   ]
  },
  {
   "cell_type": "code",
   "execution_count": 2,
   "metadata": {},
   "outputs": [],
   "source": [
    "df_train = pd.read_csv('./data/train.csv')\n",
    "df_test = pd.read_csv('./data/test.csv')"
   ]
  },
  {
   "cell_type": "code",
   "execution_count": 3,
   "metadata": {},
   "outputs": [
    {
     "data": {
      "text/html": [
       "<div>\n",
       "<style>\n",
       "    .dataframe thead tr:only-child th {\n",
       "        text-align: right;\n",
       "    }\n",
       "\n",
       "    .dataframe thead th {\n",
       "        text-align: left;\n",
       "    }\n",
       "\n",
       "    .dataframe tbody tr th {\n",
       "        vertical-align: top;\n",
       "    }\n",
       "</style>\n",
       "<table border=\"1\" class=\"dataframe\">\n",
       "  <thead>\n",
       "    <tr style=\"text-align: right;\">\n",
       "      <th></th>\n",
       "      <th>label</th>\n",
       "      <th>pixel0</th>\n",
       "      <th>pixel1</th>\n",
       "      <th>pixel2</th>\n",
       "      <th>pixel3</th>\n",
       "      <th>pixel4</th>\n",
       "      <th>pixel5</th>\n",
       "      <th>pixel6</th>\n",
       "      <th>pixel7</th>\n",
       "      <th>pixel8</th>\n",
       "      <th>...</th>\n",
       "      <th>pixel774</th>\n",
       "      <th>pixel775</th>\n",
       "      <th>pixel776</th>\n",
       "      <th>pixel777</th>\n",
       "      <th>pixel778</th>\n",
       "      <th>pixel779</th>\n",
       "      <th>pixel780</th>\n",
       "      <th>pixel781</th>\n",
       "      <th>pixel782</th>\n",
       "      <th>pixel783</th>\n",
       "    </tr>\n",
       "  </thead>\n",
       "  <tbody>\n",
       "    <tr>\n",
       "      <th>41995</th>\n",
       "      <td>0</td>\n",
       "      <td>0</td>\n",
       "      <td>0</td>\n",
       "      <td>0</td>\n",
       "      <td>0</td>\n",
       "      <td>0</td>\n",
       "      <td>0</td>\n",
       "      <td>0</td>\n",
       "      <td>0</td>\n",
       "      <td>0</td>\n",
       "      <td>...</td>\n",
       "      <td>0</td>\n",
       "      <td>0</td>\n",
       "      <td>0</td>\n",
       "      <td>0</td>\n",
       "      <td>0</td>\n",
       "      <td>0</td>\n",
       "      <td>0</td>\n",
       "      <td>0</td>\n",
       "      <td>0</td>\n",
       "      <td>0</td>\n",
       "    </tr>\n",
       "    <tr>\n",
       "      <th>41996</th>\n",
       "      <td>1</td>\n",
       "      <td>0</td>\n",
       "      <td>0</td>\n",
       "      <td>0</td>\n",
       "      <td>0</td>\n",
       "      <td>0</td>\n",
       "      <td>0</td>\n",
       "      <td>0</td>\n",
       "      <td>0</td>\n",
       "      <td>0</td>\n",
       "      <td>...</td>\n",
       "      <td>0</td>\n",
       "      <td>0</td>\n",
       "      <td>0</td>\n",
       "      <td>0</td>\n",
       "      <td>0</td>\n",
       "      <td>0</td>\n",
       "      <td>0</td>\n",
       "      <td>0</td>\n",
       "      <td>0</td>\n",
       "      <td>0</td>\n",
       "    </tr>\n",
       "    <tr>\n",
       "      <th>41997</th>\n",
       "      <td>7</td>\n",
       "      <td>0</td>\n",
       "      <td>0</td>\n",
       "      <td>0</td>\n",
       "      <td>0</td>\n",
       "      <td>0</td>\n",
       "      <td>0</td>\n",
       "      <td>0</td>\n",
       "      <td>0</td>\n",
       "      <td>0</td>\n",
       "      <td>...</td>\n",
       "      <td>0</td>\n",
       "      <td>0</td>\n",
       "      <td>0</td>\n",
       "      <td>0</td>\n",
       "      <td>0</td>\n",
       "      <td>0</td>\n",
       "      <td>0</td>\n",
       "      <td>0</td>\n",
       "      <td>0</td>\n",
       "      <td>0</td>\n",
       "    </tr>\n",
       "    <tr>\n",
       "      <th>41998</th>\n",
       "      <td>6</td>\n",
       "      <td>0</td>\n",
       "      <td>0</td>\n",
       "      <td>0</td>\n",
       "      <td>0</td>\n",
       "      <td>0</td>\n",
       "      <td>0</td>\n",
       "      <td>0</td>\n",
       "      <td>0</td>\n",
       "      <td>0</td>\n",
       "      <td>...</td>\n",
       "      <td>0</td>\n",
       "      <td>0</td>\n",
       "      <td>0</td>\n",
       "      <td>0</td>\n",
       "      <td>0</td>\n",
       "      <td>0</td>\n",
       "      <td>0</td>\n",
       "      <td>0</td>\n",
       "      <td>0</td>\n",
       "      <td>0</td>\n",
       "    </tr>\n",
       "    <tr>\n",
       "      <th>41999</th>\n",
       "      <td>9</td>\n",
       "      <td>0</td>\n",
       "      <td>0</td>\n",
       "      <td>0</td>\n",
       "      <td>0</td>\n",
       "      <td>0</td>\n",
       "      <td>0</td>\n",
       "      <td>0</td>\n",
       "      <td>0</td>\n",
       "      <td>0</td>\n",
       "      <td>...</td>\n",
       "      <td>0</td>\n",
       "      <td>0</td>\n",
       "      <td>0</td>\n",
       "      <td>0</td>\n",
       "      <td>0</td>\n",
       "      <td>0</td>\n",
       "      <td>0</td>\n",
       "      <td>0</td>\n",
       "      <td>0</td>\n",
       "      <td>0</td>\n",
       "    </tr>\n",
       "  </tbody>\n",
       "</table>\n",
       "<p>5 rows × 785 columns</p>\n",
       "</div>"
      ],
      "text/plain": [
       "       label  pixel0  pixel1  pixel2  pixel3  pixel4  pixel5  pixel6  pixel7  \\\n",
       "41995      0       0       0       0       0       0       0       0       0   \n",
       "41996      1       0       0       0       0       0       0       0       0   \n",
       "41997      7       0       0       0       0       0       0       0       0   \n",
       "41998      6       0       0       0       0       0       0       0       0   \n",
       "41999      9       0       0       0       0       0       0       0       0   \n",
       "\n",
       "       pixel8    ...     pixel774  pixel775  pixel776  pixel777  pixel778  \\\n",
       "41995       0    ...            0         0         0         0         0   \n",
       "41996       0    ...            0         0         0         0         0   \n",
       "41997       0    ...            0         0         0         0         0   \n",
       "41998       0    ...            0         0         0         0         0   \n",
       "41999       0    ...            0         0         0         0         0   \n",
       "\n",
       "       pixel779  pixel780  pixel781  pixel782  pixel783  \n",
       "41995         0         0         0         0         0  \n",
       "41996         0         0         0         0         0  \n",
       "41997         0         0         0         0         0  \n",
       "41998         0         0         0         0         0  \n",
       "41999         0         0         0         0         0  \n",
       "\n",
       "[5 rows x 785 columns]"
      ]
     },
     "execution_count": 3,
     "metadata": {},
     "output_type": "execute_result"
    }
   ],
   "source": [
    "df_train.tail()"
   ]
  },
  {
   "cell_type": "code",
   "execution_count": 4,
   "metadata": {},
   "outputs": [
    {
     "data": {
      "text/html": [
       "<div>\n",
       "<style>\n",
       "    .dataframe thead tr:only-child th {\n",
       "        text-align: right;\n",
       "    }\n",
       "\n",
       "    .dataframe thead th {\n",
       "        text-align: left;\n",
       "    }\n",
       "\n",
       "    .dataframe tbody tr th {\n",
       "        vertical-align: top;\n",
       "    }\n",
       "</style>\n",
       "<table border=\"1\" class=\"dataframe\">\n",
       "  <thead>\n",
       "    <tr style=\"text-align: right;\">\n",
       "      <th></th>\n",
       "      <th>pixel0</th>\n",
       "      <th>pixel1</th>\n",
       "      <th>pixel2</th>\n",
       "      <th>pixel3</th>\n",
       "      <th>pixel4</th>\n",
       "      <th>pixel5</th>\n",
       "      <th>pixel6</th>\n",
       "      <th>pixel7</th>\n",
       "      <th>pixel8</th>\n",
       "      <th>pixel9</th>\n",
       "      <th>...</th>\n",
       "      <th>pixel774</th>\n",
       "      <th>pixel775</th>\n",
       "      <th>pixel776</th>\n",
       "      <th>pixel777</th>\n",
       "      <th>pixel778</th>\n",
       "      <th>pixel779</th>\n",
       "      <th>pixel780</th>\n",
       "      <th>pixel781</th>\n",
       "      <th>pixel782</th>\n",
       "      <th>pixel783</th>\n",
       "    </tr>\n",
       "  </thead>\n",
       "  <tbody>\n",
       "    <tr>\n",
       "      <th>27995</th>\n",
       "      <td>0</td>\n",
       "      <td>0</td>\n",
       "      <td>0</td>\n",
       "      <td>0</td>\n",
       "      <td>0</td>\n",
       "      <td>0</td>\n",
       "      <td>0</td>\n",
       "      <td>0</td>\n",
       "      <td>0</td>\n",
       "      <td>0</td>\n",
       "      <td>...</td>\n",
       "      <td>0</td>\n",
       "      <td>0</td>\n",
       "      <td>0</td>\n",
       "      <td>0</td>\n",
       "      <td>0</td>\n",
       "      <td>0</td>\n",
       "      <td>0</td>\n",
       "      <td>0</td>\n",
       "      <td>0</td>\n",
       "      <td>0</td>\n",
       "    </tr>\n",
       "    <tr>\n",
       "      <th>27996</th>\n",
       "      <td>0</td>\n",
       "      <td>0</td>\n",
       "      <td>0</td>\n",
       "      <td>0</td>\n",
       "      <td>0</td>\n",
       "      <td>0</td>\n",
       "      <td>0</td>\n",
       "      <td>0</td>\n",
       "      <td>0</td>\n",
       "      <td>0</td>\n",
       "      <td>...</td>\n",
       "      <td>0</td>\n",
       "      <td>0</td>\n",
       "      <td>0</td>\n",
       "      <td>0</td>\n",
       "      <td>0</td>\n",
       "      <td>0</td>\n",
       "      <td>0</td>\n",
       "      <td>0</td>\n",
       "      <td>0</td>\n",
       "      <td>0</td>\n",
       "    </tr>\n",
       "    <tr>\n",
       "      <th>27997</th>\n",
       "      <td>0</td>\n",
       "      <td>0</td>\n",
       "      <td>0</td>\n",
       "      <td>0</td>\n",
       "      <td>0</td>\n",
       "      <td>0</td>\n",
       "      <td>0</td>\n",
       "      <td>0</td>\n",
       "      <td>0</td>\n",
       "      <td>0</td>\n",
       "      <td>...</td>\n",
       "      <td>0</td>\n",
       "      <td>0</td>\n",
       "      <td>0</td>\n",
       "      <td>0</td>\n",
       "      <td>0</td>\n",
       "      <td>0</td>\n",
       "      <td>0</td>\n",
       "      <td>0</td>\n",
       "      <td>0</td>\n",
       "      <td>0</td>\n",
       "    </tr>\n",
       "    <tr>\n",
       "      <th>27998</th>\n",
       "      <td>0</td>\n",
       "      <td>0</td>\n",
       "      <td>0</td>\n",
       "      <td>0</td>\n",
       "      <td>0</td>\n",
       "      <td>0</td>\n",
       "      <td>0</td>\n",
       "      <td>0</td>\n",
       "      <td>0</td>\n",
       "      <td>0</td>\n",
       "      <td>...</td>\n",
       "      <td>0</td>\n",
       "      <td>0</td>\n",
       "      <td>0</td>\n",
       "      <td>0</td>\n",
       "      <td>0</td>\n",
       "      <td>0</td>\n",
       "      <td>0</td>\n",
       "      <td>0</td>\n",
       "      <td>0</td>\n",
       "      <td>0</td>\n",
       "    </tr>\n",
       "    <tr>\n",
       "      <th>27999</th>\n",
       "      <td>0</td>\n",
       "      <td>0</td>\n",
       "      <td>0</td>\n",
       "      <td>0</td>\n",
       "      <td>0</td>\n",
       "      <td>0</td>\n",
       "      <td>0</td>\n",
       "      <td>0</td>\n",
       "      <td>0</td>\n",
       "      <td>0</td>\n",
       "      <td>...</td>\n",
       "      <td>0</td>\n",
       "      <td>0</td>\n",
       "      <td>0</td>\n",
       "      <td>0</td>\n",
       "      <td>0</td>\n",
       "      <td>0</td>\n",
       "      <td>0</td>\n",
       "      <td>0</td>\n",
       "      <td>0</td>\n",
       "      <td>0</td>\n",
       "    </tr>\n",
       "  </tbody>\n",
       "</table>\n",
       "<p>5 rows × 784 columns</p>\n",
       "</div>"
      ],
      "text/plain": [
       "       pixel0  pixel1  pixel2  pixel3  pixel4  pixel5  pixel6  pixel7  pixel8  \\\n",
       "27995       0       0       0       0       0       0       0       0       0   \n",
       "27996       0       0       0       0       0       0       0       0       0   \n",
       "27997       0       0       0       0       0       0       0       0       0   \n",
       "27998       0       0       0       0       0       0       0       0       0   \n",
       "27999       0       0       0       0       0       0       0       0       0   \n",
       "\n",
       "       pixel9    ...     pixel774  pixel775  pixel776  pixel777  pixel778  \\\n",
       "27995       0    ...            0         0         0         0         0   \n",
       "27996       0    ...            0         0         0         0         0   \n",
       "27997       0    ...            0         0         0         0         0   \n",
       "27998       0    ...            0         0         0         0         0   \n",
       "27999       0    ...            0         0         0         0         0   \n",
       "\n",
       "       pixel779  pixel780  pixel781  pixel782  pixel783  \n",
       "27995         0         0         0         0         0  \n",
       "27996         0         0         0         0         0  \n",
       "27997         0         0         0         0         0  \n",
       "27998         0         0         0         0         0  \n",
       "27999         0         0         0         0         0  \n",
       "\n",
       "[5 rows x 784 columns]"
      ]
     },
     "execution_count": 4,
     "metadata": {},
     "output_type": "execute_result"
    }
   ],
   "source": [
    "df_test.tail()"
   ]
  },
  {
   "cell_type": "code",
   "execution_count": 5,
   "metadata": {},
   "outputs": [],
   "source": [
    "dfY = df_train[\"label\"]\n",
    "dfY = pd.get_dummies(dfY)\n",
    "dfY = dfY.as_matrix().reshape(len(dfY), -1).T"
   ]
  },
  {
   "cell_type": "code",
   "execution_count": 6,
   "metadata": {},
   "outputs": [],
   "source": [
    "dfX = df_train.drop(\"label\", axis = 1)\n",
    "dfX /= np.max(np.max(dfX))\n",
    "dfX = dfX.as_matrix().reshape(len(dfX), -1).T"
   ]
  },
  {
   "cell_type": "code",
   "execution_count": 7,
   "metadata": {},
   "outputs": [],
   "source": [
    "df_test /= np.max(np.max(df_test))\n",
    "df_test = df_test.as_matrix().reshape(len(df_test), -1).T"
   ]
  },
  {
   "cell_type": "code",
   "execution_count": 8,
   "metadata": {},
   "outputs": [],
   "source": [
    "del df_train"
   ]
  },
  {
   "cell_type": "markdown",
   "metadata": {},
   "source": [
    "# EDA"
   ]
  },
  {
   "cell_type": "markdown",
   "metadata": {},
   "source": [
    "#### data shape"
   ]
  },
  {
   "cell_type": "code",
   "execution_count": 9,
   "metadata": {},
   "outputs": [
    {
     "data": {
      "text/plain": [
       "((784, 42000), (10, 42000), (784, 28000))"
      ]
     },
     "execution_count": 9,
     "metadata": {},
     "output_type": "execute_result"
    }
   ],
   "source": [
    "np.shape(dfX), np.shape(dfY), np.shape(df_test)"
   ]
  },
  {
   "cell_type": "markdown",
   "metadata": {},
   "source": [
    "#### train set images"
   ]
  },
  {
   "cell_type": "code",
   "execution_count": 10,
   "metadata": {},
   "outputs": [
    {
     "data": {
      "image/png": "[encoded data removed]",
      "text/plain": [
       "<matplotlib.figure.Figure at 0x2ad8835c898>"
      ]
     },
     "metadata": {},
     "output_type": "display_data"
    }
   ],
   "source": [
    "plt.figure(figsize=(6, 8))\n",
    "for i in range(12):\n",
    "    plt.subplot(4, 3, i+1)\n",
    "    plt.imshow(dfX[:, i].reshape(28,28))\n",
    "    plt.axis('off')\n",
    "    plt.title(np.where(dfY[:, i] == 1)[0][0])\n",
    "plt.show()"
   ]
  },
  {
   "cell_type": "markdown",
   "metadata": {},
   "source": [
    "#### test set images"
   ]
  },
  {
   "cell_type": "code",
   "execution_count": 11,
   "metadata": {},
   "outputs": [
    {
     "data": {
      "image/png": "[encoded data removed]",
      "text/plain": [
       "<matplotlib.figure.Figure at 0x2ad88607c88>"
      ]
     },
     "metadata": {},
     "output_type": "display_data"
    }
   ],
   "source": [
    "plt.figure(figsize=(6, 8))\n",
    "for i in range(12):\n",
    "    plt.subplot(4, 3, i+1)\n",
    "    plt.imshow(df_test[:, i].reshape(28,28))\n",
    "    plt.axis('off')\n",
    "plt.show()"
   ]
  },
  {
   "cell_type": "markdown",
   "metadata": {},
   "source": [
    "#### labels distribution"
   ]
  },
  {
   "cell_type": "code",
   "execution_count": 12,
   "metadata": {
    "scrolled": true
   },
   "outputs": [
    {
     "name": "stdout",
     "output_type": "stream",
     "text": [
      "[4132 4684 4177 4351 4072 3795 4137 4401 4063 4188]\n"
     ]
    },
    {
     "data": {
      "image/png": "[encoded data removed]",
      "text/plain": [
       "<matplotlib.figure.Figure at 0x2ad88ff2780>"
      ]
     },
     "metadata": {},
     "output_type": "display_data"
    }
   ],
   "source": [
    "sns.barplot(list(range(10)), np.sum(dfY, axis=1), palette='Greens_d')\n",
    "print(np.sum(dfY, axis=1))"
   ]
  },
  {
   "cell_type": "code",
   "execution_count": 13,
   "metadata": {},
   "outputs": [],
   "source": [
    "#check None Value\n",
    "# assert(dfX.isnull().any().count() == np.shape(dfX)[1])\n",
    "# assert(dfY.isnull().any().count() == np.shape(dfY)[1])"
   ]
  },
  {
   "cell_type": "markdown",
   "metadata": {},
   "source": [
    "# function"
   ]
  },
  {
   "cell_type": "code",
   "execution_count": 14,
   "metadata": {},
   "outputs": [],
   "source": [
    "def layer_sizes(dfX, dfY):\n",
    "    \"\"\"\n",
    "    Arguments:\n",
    "    dfX -- input dataset of shape (input size, number of examples)\n",
    "    dfY -- labels of shape (output size, number of examples)\n",
    "    \n",
    "    Returns:\n",
    "    n_x -- the size of the input layer\n",
    "    n_hi -- the size of the hidden layer\n",
    "    n_y -- the size of the output layer\n",
    "    \"\"\"\n",
    "\n",
    "    n_x = dfX.shape[0]      # size of input layer\n",
    "    n_h1 = 128\n",
    "    n_h2 = 128\n",
    "    n_h3 = 128\n",
    "    n_y = dfY.shape[0]      # size of output layer\n",
    "    layer_dims = (n_x, n_h1, n_h2, n_h3, n_y)\n",
    "    \n",
    "    return layer_dims"
   ]
  },
  {
   "cell_type": "code",
   "execution_count": 15,
   "metadata": {},
   "outputs": [
    {
     "data": {
      "text/plain": [
       "(784, 128, 128, 128, 10)"
      ]
     },
     "execution_count": 15,
     "metadata": {},
     "output_type": "execute_result"
    }
   ],
   "source": [
    "layer_dims = layer_sizes(dfX, dfY)\n",
    "layer_dims"
   ]
  },
  {
   "cell_type": "code",
   "execution_count": 16,
   "metadata": {},
   "outputs": [],
   "source": [
    "def initialize_parameters(layer_dims):\n",
    "    \"\"\"\n",
    "    Argument:\n",
    "    layer_dims -- output of layer_sizes()\n",
    "    \n",
    "    Returns:\n",
    "    params -- python dictionary containing your parameters:\n",
    "                    W1 -- weight matrix of shape (n_h1, n_x)\n",
    "                    b1 -- bias vector of shape (n_h1, 1)\n",
    "                    W2 -- weight matrix of shape (n_h2, n_h1)\n",
    "                    b2 -- bias vector of shape (n_h2, 1)\n",
    "                    W3 -- weight matrix of shape (n_y, n_h2)\n",
    "                    b3 -- bias vector of shape (n_y, 1)\n",
    "    \"\"\"\n",
    "    np.random.seed(0)\n",
    "    \n",
    "    parameters = {}\n",
    "    L = len(layer_dims)   \n",
    "    \n",
    "    for l in range(1, L):\n",
    "        parameters['W' + str(l)] = np.random.randn(layer_dims[l], layer_dims[l-1]) * 0.1\n",
    "        parameters['b' + str(l)] = np.zeros((layer_dims[l], 1))\n",
    "        \n",
    "        assert(parameters['W' + str(l)].shape == (layer_dims[l], layer_dims[l-1]))\n",
    "        assert(parameters['b' + str(l)].shape == (layer_dims[l], 1))\n",
    "    \n",
    "    return parameters"
   ]
  },
  {
   "cell_type": "code",
   "execution_count": 17,
   "metadata": {},
   "outputs": [],
   "source": [
    "parameters = initialize_parameters(layer_dims)\n",
    "# parameters"
   ]
  },
  {
   "cell_type": "code",
   "execution_count": 18,
   "metadata": {},
   "outputs": [
    {
     "name": "stdout",
     "output_type": "stream",
     "text": [
      "shape W1 : (128, 784)\n",
      "shape b1 : (128, 1)\n",
      "shape W2 : (128, 128)\n",
      "shape b2 : (128, 1)\n",
      "shape W3 : (128, 128)\n",
      "shape b3 : (128, 1)\n",
      "shape W4 : (10, 128)\n",
      "shape b4 : (10, 1)\n"
     ]
    }
   ],
   "source": [
    "for i in parameters.keys():\n",
    "    print(\"shape {} :\".format(i), np.shape(parameters[i]))"
   ]
  },
  {
   "cell_type": "code",
   "execution_count": 19,
   "metadata": {},
   "outputs": [],
   "source": [
    "def linear_forward(A, W, b):\n",
    "    \"\"\"\n",
    "    Implement the linear part of a layer's forward propagation.\n",
    "\n",
    "    Arguments:\n",
    "    A -- activations from previous layer (or input data): (size of previous layer, number of examples)\n",
    "    W -- weights matrix: numpy array of shape (size of current layer, size of previous layer)\n",
    "    b -- bias vector, numpy array of shape (size of the current layer, 1)\n",
    "\n",
    "    Returns:\n",
    "    Z -- the input of the activation function, also called pre-activation parameter \n",
    "    cache -- a python dictionary containing \"A\", \"W\" and \"b\" ; stored for computing the backward pass efficiently\n",
    "    \"\"\"\n",
    "    \n",
    "    Z = np.dot(W, A) + b\n",
    "    \n",
    "    assert(Z.shape == (W.shape[0], A.shape[1]))\n",
    "    cache = (A, W, b)\n",
    "    \n",
    "    return Z, cache"
   ]
  },
  {
   "cell_type": "code",
   "execution_count": 20,
   "metadata": {},
   "outputs": [
    {
     "name": "stdout",
     "output_type": "stream",
     "text": [
      "(128, 42000)\n",
      "Z = [[ -7.77738152e-01  -4.35866678e+00  -9.80310349e-01 ...,  -2.30466824e+00\n",
      "   -2.18948154e+00  -1.64403224e+00]\n",
      " [  2.09005949e+00   8.63554220e-01  -3.32598141e-01 ...,  -2.71707471e-01\n",
      "    6.42573448e-01   4.09528535e-01]\n",
      " [ -6.14081593e-01   4.39410513e-01  -8.24271316e-01 ...,  -8.79024755e-01\n",
      "   -5.63683133e-01  -1.19716513e+00]\n",
      " ..., \n",
      " [ -3.86671274e-01   2.83271352e-01   2.63957027e-01 ...,   3.45443681e-01\n",
      "   -1.93734851e-01  -8.11186681e-02]\n",
      " [ -7.38926893e-03   2.80773043e+00   1.94340708e-01 ...,   3.90852399e-01\n",
      "    9.12904122e-01   4.30378264e-01]\n",
      " [  5.39345447e-01  -1.63787572e+00  -2.72880756e-03 ...,  -7.97527727e-01\n",
      "   -1.20683291e+00  -8.83847535e-01]]\n"
     ]
    }
   ],
   "source": [
    "A, W, b = dfX, parameters['W1'], parameters['b1']\n",
    "Z, linear_cache = linear_forward(A, W, b)\n",
    "print(Z.shape)\n",
    "print(\"Z = \" + str(Z))"
   ]
  },
  {
   "cell_type": "code",
   "execution_count": 21,
   "metadata": {},
   "outputs": [],
   "source": [
    "def sigmoid(Z):\n",
    "    \"\"\"\n",
    "    Implements the sigmoid activation in numpy\n",
    "    \n",
    "    Arguments:\n",
    "    Z -- numpy array of any shape\n",
    "    \n",
    "    Returns:\n",
    "    A -- output of sigmoid(z), same shape as Z\n",
    "    cache -- returns Z as well, useful during backpropagation\n",
    "    \"\"\"\n",
    "    \n",
    "    A = 1/(1+np.exp(-Z))\n",
    "    \n",
    "    assert(A.shape == Z.shape)\n",
    "    \n",
    "    cache = Z\n",
    "    \n",
    "    return A, cache"
   ]
  },
  {
   "cell_type": "code",
   "execution_count": 22,
   "metadata": {},
   "outputs": [
    {
     "data": {
      "text/plain": [
       "array([[ 0.31480757,  0.01263378,  0.27283021, ...,  0.09073708,\n",
       "         0.10069904,  0.16191714],\n",
       "       [ 0.88993325,  0.7034027 ,  0.41760859, ...,  0.43248796,\n",
       "         0.65533496,  0.60097483],\n",
       "       [ 0.35112869,  0.60811856,  0.30485773, ...,  0.29337991,\n",
       "         0.36269568,  0.23197991],\n",
       "       ..., \n",
       "       [ 0.40451888,  0.57034806,  0.56560877, ...,  0.58551225,\n",
       "         0.45171721,  0.47973145],\n",
       "       [ 0.49815269,  0.94309214,  0.54843284, ...,  0.59648788,\n",
       "         0.71359407,  0.60596399],\n",
       "       [ 0.63166014,  0.16275432,  0.4993178 , ...,  0.31055461,\n",
       "         0.23026191,  0.29238111]])"
      ]
     },
     "execution_count": 22,
     "metadata": {},
     "output_type": "execute_result"
    }
   ],
   "source": [
    "sigmoid(Z)[0]"
   ]
  },
  {
   "cell_type": "code",
   "execution_count": 23,
   "metadata": {},
   "outputs": [],
   "source": [
    "def relu(Z):\n",
    "    \"\"\"\n",
    "    Implement the RELU activation in numpy.\n",
    "\n",
    "    Arguments:\n",
    "    Z -- Output of the linear layer, of any shape\n",
    "\n",
    "    Returns:\n",
    "    A -- Post-activation parameter, of the same shape as Z\n",
    "    cache -- a python dictionary containing \"A\" ; stored for computing the backward pass efficiently\n",
    "    \"\"\"\n",
    "    \n",
    "    A = np.maximum(0,Z)\n",
    "    \n",
    "    assert(A.shape == Z.shape)\n",
    "    \n",
    "    cache = Z \n",
    "    return A, cache"
   ]
  },
  {
   "cell_type": "code",
   "execution_count": 24,
   "metadata": {},
   "outputs": [
    {
     "data": {
      "text/plain": [
       "array([[ 0.        ,  0.        ,  0.        , ...,  0.        ,\n",
       "         0.        ,  0.        ],\n",
       "       [ 2.09005949,  0.86355422,  0.        , ...,  0.        ,\n",
       "         0.64257345,  0.40952854],\n",
       "       [ 0.        ,  0.43941051,  0.        , ...,  0.        ,\n",
       "         0.        ,  0.        ],\n",
       "       ..., \n",
       "       [ 0.        ,  0.28327135,  0.26395703, ...,  0.34544368,\n",
       "         0.        ,  0.        ],\n",
       "       [ 0.        ,  2.80773043,  0.19434071, ...,  0.3908524 ,\n",
       "         0.91290412,  0.43037826],\n",
       "       [ 0.53934545,  0.        ,  0.        , ...,  0.        ,\n",
       "         0.        ,  0.        ]])"
      ]
     },
     "execution_count": 24,
     "metadata": {},
     "output_type": "execute_result"
    }
   ],
   "source": [
    "relu(Z)[0]"
   ]
  },
  {
   "cell_type": "code",
   "execution_count": 25,
   "metadata": {},
   "outputs": [],
   "source": [
    "def softmax(Z):\n",
    "    \"\"\"\n",
    "    Implement the softmax activation in numpy.\n",
    "\n",
    "    Arguments:\n",
    "    Z -- Output of the linear layer, of any shape\n",
    "\n",
    "    Returns:\n",
    "    A -- Post-activation parameter, of the same shape as Z\n",
    "    cache -- a python dictionary containing \"A\" ; stored for computing the backward pass efficiently\n",
    "    \"\"\"\n",
    "    \n",
    "    A = np.exp(Z) / sum(np.exp(Z))\n",
    "    \n",
    "    assert(A.shape == Z.shape)\n",
    "    \n",
    "    cache = Z \n",
    "    return A, cache"
   ]
  },
  {
   "cell_type": "code",
   "execution_count": 26,
   "metadata": {},
   "outputs": [
    {
     "data": {
      "text/plain": [
       "array([[  2.68911192e-03,   4.72370679e-05,   2.11265473e-03, ...,\n",
       "          3.74112937e-04,   5.58444405e-04,   1.01407731e-03],\n",
       "       [  4.73235777e-02,   8.75517224e-03,   4.03762857e-03, ...,\n",
       "          2.85697455e-03,   9.48256431e-03,   7.90535137e-03],\n",
       "       [  3.16726221e-03,   5.72877048e-03,   2.46942260e-03, ...,\n",
       "          1.55650968e-03,   2.83827989e-03,   1.58541508e-03],\n",
       "       ..., \n",
       "       [  3.97600632e-03,   4.90062021e-03,   7.33173876e-03, ...,\n",
       "          5.29580167e-03,   4.10886353e-03,   4.83989349e-03],\n",
       "       [  5.80987980e-03,   6.11800313e-02,   6.83869128e-03, ...,\n",
       "          5.54182066e-03,   1.24259304e-02,   8.07190607e-03],\n",
       "       [  1.00371639e-02,   7.17641386e-04,   5.61547885e-03, ...,\n",
       "          1.68867291e-03,   1.49189693e-03,   2.16877794e-03]])"
      ]
     },
     "execution_count": 26,
     "metadata": {},
     "output_type": "execute_result"
    }
   ],
   "source": [
    "softmax(Z)[0]"
   ]
  },
  {
   "cell_type": "code",
   "execution_count": 27,
   "metadata": {},
   "outputs": [],
   "source": [
    "def linear_activation_forward(A_prev, W, b, activation):\n",
    "    \"\"\"\n",
    "    Implement the forward propagation for the LINEAR->ACTIVATION layer\n",
    "\n",
    "    Arguments:\n",
    "    A_prev -- activations from previous layer (or input data): (size of previous layer, number of examples)\n",
    "    W -- weights matrix: numpy array of shape (size of current layer, size of previous layer)\n",
    "    b -- bias vector, numpy array of shape (size of the current layer, 1)\n",
    "    activation -- the activation to be used in this layer, stored as a text string: \"sigmoid\" or \"relu\" or \"tanh\" or \"softmax\"\n",
    "\n",
    "    Returns:\n",
    "    A -- the output of the activation function, also called the post-activation value \n",
    "    cache -- a python dictionary containing \"linear_cache\" and \"activation_cache\";\n",
    "             stored for computing the backward pass efficiently\n",
    "    \"\"\"\n",
    "    \n",
    "    Z, linear_cache = linear_forward(A_prev, W, b)  \n",
    "    \n",
    "    if activation == \"sigmoid\":\n",
    "        A, activation_cache = sigmoid(Z)\n",
    "    \n",
    "    elif activation == \"relu\":\n",
    "        A, activation_cache = relu(Z)\n",
    "        \n",
    "    elif activation == \"softmax\":\n",
    "        A, activation_cache = softmax(Z)   \n",
    "        \n",
    "    elif activation == \"tanh\":\n",
    "        A, activation_cache = np.tanh(Z), Z\n",
    "    \n",
    "    assert (A.shape == (W.shape[0], A_prev.shape[1]))\n",
    "    \n",
    "    cache = (linear_cache, activation_cache)  \n",
    "\n",
    "    return A, cache     # g(Z), ((A, W, b), g(Z))"
   ]
  },
  {
   "cell_type": "code",
   "execution_count": 28,
   "metadata": {},
   "outputs": [],
   "source": [
    "A_prev, W, b = dfX, parameters['W1'], parameters['b1']"
   ]
  },
  {
   "cell_type": "code",
   "execution_count": 29,
   "metadata": {},
   "outputs": [
    {
     "data": {
      "text/plain": [
       "array([[-0.65140655, -0.99967261, -0.75320022, ..., -0.98027954,\n",
       "        -0.97523382, -0.92803415],\n",
       "       [ 0.96986755,  0.69808437, -0.32085339, ..., -0.26521292,\n",
       "         0.56664924,  0.38807229],\n",
       "       [-0.54699385,  0.4131557 , -0.67738797, ..., -0.70593041,\n",
       "        -0.51070505, -0.83278787],\n",
       "       ..., \n",
       "       [-0.36848702,  0.27593008,  0.25799293, ...,  0.33232859,\n",
       "        -0.19134687, -0.08094121],\n",
       "       [-0.00738913,  0.99274416,  0.19193047, ...,  0.37209484,\n",
       "         0.72252322,  0.40563738],\n",
       "       [ 0.49249233, -0.92717502, -0.0027288 , ..., -0.66265236,\n",
       "        -0.83572694, -0.70834159]])"
      ]
     },
     "execution_count": 29,
     "metadata": {},
     "output_type": "execute_result"
    }
   ],
   "source": [
    "linear_activation_forward(A_prev, W, b, activation='tanh')[0]"
   ]
  },
  {
   "cell_type": "code",
   "execution_count": 50,
   "metadata": {},
   "outputs": [],
   "source": [
    "def L_model_forward(X, parameters):\n",
    "    \"\"\"\n",
    "    Implement forward propagation for the LINEAR -> RELU -> LINEAR  TANH -> LINEAR -> SIGMOID -> LINEAR -> SOFTMAX computation\n",
    "    \n",
    "    Arguments:\n",
    "    X -- data, numpy array of shape (input size, number of examples)\n",
    "    parameters -- output of initialize_parameters()\n",
    "    \n",
    "    Returns:\n",
    "    AL -- last post-activation value\n",
    "    caches -- list of caches containing:\n",
    "                every cache of linear_activation_forward() (there are L-1 of them, indexed from 0 to L-1)\n",
    "    \"\"\"\n",
    "\n",
    "    caches = []\n",
    "    A = X\n",
    "    L = len(parameters) // 2\n",
    "    \n",
    "#     for l, act in zip(range(1, L), ['relu', 'tanh', 'sigmoid']):\n",
    "    for l in range(1, L):\n",
    "        A_prev = A \n",
    "#         A, cache = linear_activation_forward(A_prev, parameters['W{}'.format(l)], parameters['b{}'.format(l)], activation = act)\n",
    "        A, cache = linear_activation_forward(A_prev, parameters['W{}'.format(l)], parameters['b{}'.format(l)], activation = 'relu')\n",
    "        caches.append(cache)\n",
    "    \n",
    "    AL, cache = linear_activation_forward(A, parameters['W{}'.format(L)], parameters['b{}'.format(L)], activation = \"softmax\")\n",
    "    caches.append(cache)\n",
    "    \n",
    "    assert(AL.shape == (10, X.shape[1]))\n",
    "            \n",
    "    return AL, caches    # A[4], ((A[0], W1, b1, (Z1)), (A[1], W2, b2, (Z2)), (A[2], W3, b3, (Z3)), (A[3], W4, b4, (Z4)))"
   ]
  },
  {
   "cell_type": "code",
   "execution_count": 51,
   "metadata": {},
   "outputs": [
    {
     "name": "stdout",
     "output_type": "stream",
     "text": [
      "(10, 42000)\n"
     ]
    },
    {
     "data": {
      "text/plain": [
       "array([[ 0.073156  ,  0.09848152,  0.11171709, ...,  0.13684389,\n",
       "         0.1500705 ,  0.12275903],\n",
       "       [ 0.14418204,  0.0682603 ,  0.08031119, ...,  0.1552389 ,\n",
       "         0.07529559,  0.07953822],\n",
       "       [ 0.10199908,  0.11637212,  0.10497186, ...,  0.18332692,\n",
       "         0.1235681 ,  0.12304256],\n",
       "       ..., \n",
       "       [ 0.08215915,  0.07488257,  0.08623227, ...,  0.05273489,\n",
       "         0.05711142,  0.09161985],\n",
       "       [ 0.09021555,  0.07555457,  0.10281009, ...,  0.08468924,\n",
       "         0.10822773,  0.10765895],\n",
       "       [ 0.09969229,  0.10386903,  0.12451631, ...,  0.14443351,\n",
       "         0.09115748,  0.10639663]])"
      ]
     },
     "execution_count": 51,
     "metadata": {},
     "output_type": "execute_result"
    }
   ],
   "source": [
    "A4, caches = L_model_forward(dfX, parameters)\n",
    "print(A4.shape)\n",
    "A4"
   ]
  },
  {
   "cell_type": "markdown",
   "metadata": {},
   "source": [
    "### Loss function\n",
    "$$ L = -\\frac{1}{m}\\Sigma_jY_jlogP_j $$"
   ]
  },
  {
   "cell_type": "code",
   "execution_count": 52,
   "metadata": {},
   "outputs": [],
   "source": [
    "def compute_cost(AL, Y):\n",
    "    \"\"\"\n",
    "    Implement the cost function.\n",
    "\n",
    "    Arguments:\n",
    "    AL -- probability matrix, output of the forward propagation (L_model_forward())\n",
    "    Y -- ture\"label\" numpy ndarray\n",
    "    \n",
    "    Returns:\n",
    "    cost -- cross-entropy cost\n",
    "    \"\"\"\n",
    "    \n",
    "    m = Y.shape[1]\n",
    "\n",
    "    cost = -1/m * np.sum(np.sum(Y * np.log(AL), axis = 1, keepdims=True))\n",
    "    \n",
    "    assert(cost.shape == ())\n",
    "    \n",
    "    return cost"
   ]
  },
  {
   "cell_type": "code",
   "execution_count": 53,
   "metadata": {},
   "outputs": [
    {
     "data": {
      "text/plain": [
       "2.3882293178060072"
      ]
     },
     "execution_count": 53,
     "metadata": {},
     "output_type": "execute_result"
    }
   ],
   "source": [
    "cost = compute_cost(A4, dfY)\n",
    "cost"
   ]
  },
  {
   "cell_type": "markdown",
   "metadata": {},
   "source": [
    "### Backword propagation \n",
    "+ input : $da^{[l]}$ \n",
    "+ output : $da^{[l-1]}, dW^{[l]}, db^{[l]}$"
   ]
  },
  {
   "cell_type": "markdown",
   "metadata": {},
   "source": [
    "$$ dZ^{[l]} = da^{[l]} * g^{[l]'}(Z^{[l]}) $$"
   ]
  },
  {
   "cell_type": "markdown",
   "metadata": {},
   "source": [
    "$$ dW^{[l]} = dZ^{[l]} * a^{[l-1]}$$"
   ]
  },
  {
   "cell_type": "markdown",
   "metadata": {},
   "source": [
    "$$ db^{[l]} = dZ^{[l]} $$"
   ]
  },
  {
   "cell_type": "markdown",
   "metadata": {},
   "source": [
    "$$ da^{[l-1]} = W^{[l]T} \\bullet dz^{[l]}  $$"
   ]
  },
  {
   "cell_type": "markdown",
   "metadata": {},
   "source": [
    "$$ dZ^{[l]} = W^{[l+1]T} \\bullet dZ^{[l+1]} * g^{[l]'}(Z^{[l]}) $$"
   ]
  },
  {
   "cell_type": "code",
   "execution_count": 54,
   "metadata": {},
   "outputs": [],
   "source": [
    "def linear_backward(dZ, cache):\n",
    "    \"\"\"\n",
    "    Implement the linear portion of backward propagation for a single layer (layer l)\n",
    "\n",
    "    Arguments:\n",
    "    dZ -- Gradient of the cost with respect to the linear output (of current layer l)\n",
    "    cache -- tuple of values (A_prev, W, b) coming from the forward propagation in the current layer\n",
    "\n",
    "    Returns:\n",
    "    dA_prev -- Gradient of the cost with respect to the activation (of the previous layer l-1), same shape as A_prev\n",
    "    dW -- Gradient of the cost with respect to W (current layer l), same shape as W\n",
    "    db -- Gradient of the cost with respect to b (current layer l), same shape as b\n",
    "    \"\"\"\n",
    "\n",
    "    A_prev, W, b = cache\n",
    "    m = A_prev.shape[1]\n",
    "\n",
    "    dW = 1 / m * np.dot(dZ,A_prev.T)\n",
    "    db = 1 / m * np.sum(dZ, axis=1, keepdims=True)\n",
    "    dA_prev = np.dot(W.T,dZ)\n",
    "    \n",
    "    assert (dA_prev.shape == A_prev.shape)\n",
    "    assert (dW.shape == W.shape)\n",
    "    assert (db.shape == b.shape)\n",
    "    \n",
    "    return dA_prev, dW, db"
   ]
  },
  {
   "cell_type": "markdown",
   "metadata": {},
   "source": [
    "#### 4-layer (softmax)\n",
    "+ differential"
   ]
  },
  {
   "cell_type": "markdown",
   "metadata": {},
   "source": [
    "$$ a^{[4]}_i = P_i = \\frac{e^{Z^{[4]}_i}}{\\Sigma_i e^{Z^{[4]}_i}} $$"
   ]
  },
  {
   "cell_type": "markdown",
   "metadata": {},
   "source": [
    "$$ g^{[4]'}_i(Z^{[4]}_i) = \\frac{\\partial g(Z^{[4]}_i)}{\\partial Z^{[4]}_i} = P_i(1 - P_i)$$"
   ]
  },
  {
   "cell_type": "markdown",
   "metadata": {},
   "source": [
    "$$ g^{[4]'}_j(Z^{[4]}_i) = \\frac{\\partial g(Z^{[4]}_i)}{\\partial Z^{[4]}_j} = - P_i * P_j $$"
   ]
  },
  {
   "cell_type": "markdown",
   "metadata": {},
   "source": [
    "+ input\n",
    "$$ da^{[4]} = \\frac{\\partial L}{\\partial a^{[4]}_i} = P_i - y_i$$"
   ]
  },
  {
   "cell_type": "markdown",
   "metadata": {},
   "source": [
    "+ output"
   ]
  },
  {
   "cell_type": "markdown",
   "metadata": {},
   "source": [
    "$$ dZ^{[4]}_i = \\frac{\\partial L}{\\partial a^{[4]}_i}\\frac{\\partial a^{[4]}_i}{\\partial Z^{[4]}_i} = (P_i - y_i){P_i(1 - P_i)}$$"
   ]
  },
  {
   "cell_type": "markdown",
   "metadata": {},
   "source": [
    "$$ da^{[3]} = W^{[4]T} \\bullet dZ^{[4]}_i  $$"
   ]
  },
  {
   "cell_type": "markdown",
   "metadata": {},
   "source": [
    "$$ dW^{[4]} = dZ^{[4]}_i * a^{[3]}$$"
   ]
  },
  {
   "cell_type": "markdown",
   "metadata": {},
   "source": [
    "$$ db^{[4]} = dZ^{[4]}_i $$"
   ]
  },
  {
   "cell_type": "code",
   "execution_count": 55,
   "metadata": {},
   "outputs": [],
   "source": [
    "def softmax_backward(dA, cache):\n",
    "    \"\"\"\n",
    "    Implement the backward propagation for a single Softmax unit.\n",
    "\n",
    "    Arguments:\n",
    "    dA -- post-activation gradient, of any shape\n",
    "    cache -- 'Z' where we store for computing backward propagation efficiently\n",
    "\n",
    "    Returns:\n",
    "    dZ -- Gradient of the cost with respect to Z\n",
    "    \"\"\"\n",
    "    \n",
    "    Z = cache\n",
    "    \n",
    "    p, _ = softmax(Z)\n",
    "    dZ = dA * p * (1 - p)\n",
    "    \n",
    "    assert (dZ.shape == Z.shape)\n",
    "    \n",
    "    return dZ"
   ]
  },
  {
   "cell_type": "markdown",
   "metadata": {},
   "source": [
    "#### 3-layer (sigmoid)\n",
    "+ differential\n",
    "$$ a^{[3]}_i = \\frac{1}{1 + e^{Z^{[3]}_i}} $$"
   ]
  },
  {
   "cell_type": "markdown",
   "metadata": {},
   "source": [
    "$$ g^{[3]'}(Z^{[3]}_i) = \\frac{\\partial g(Z^{[3]}_i)}{\\partial Z^{[3]}_i} = \\frac{1}{1 + e^{Z^{[3]}_i}}{(1 -  \\frac{1}{1 + e^{Z^{[3]}_i}})} = a^{[3]}_i(1 - a^{[3]}_i)$$"
   ]
  },
  {
   "cell_type": "markdown",
   "metadata": {},
   "source": [
    "+ input\n",
    "$$ da^{[3]} = \\frac{\\partial L}{\\partial a^{[3]}_i} = W^{[4]T} \\bullet dZ^{[4]}_i  $$"
   ]
  },
  {
   "cell_type": "markdown",
   "metadata": {},
   "source": [
    "+ output"
   ]
  },
  {
   "cell_type": "markdown",
   "metadata": {},
   "source": [
    "$$ dZ^{[3]}_i = \\frac{\\partial L}{\\partial a^{[3]}_i}\\frac{\\partial a^{[3]}_i}{\\partial Z^{[3]}_i} = W^{[4]T} \\bullet dZ^{[4]}_i * a^{[3]}_i(1 - a^{[3]}_i)$$"
   ]
  },
  {
   "cell_type": "markdown",
   "metadata": {},
   "source": [
    "$$ da^{[2]} = W^{[3]T} \\bullet dZ^{[3]}_i  $$"
   ]
  },
  {
   "cell_type": "markdown",
   "metadata": {},
   "source": [
    "$$ dW^{[3]} = dZ^{[3]}_i * a^{[2]}$$"
   ]
  },
  {
   "cell_type": "markdown",
   "metadata": {},
   "source": [
    "$$ db^{[3]} = dZ^{[3]}_i $$"
   ]
  },
  {
   "cell_type": "code",
   "execution_count": 56,
   "metadata": {},
   "outputs": [],
   "source": [
    "def sigmoid_backward(dA, cache):\n",
    "    \"\"\"\n",
    "    Implement the backward propagation for a single SIGMOID unit.\n",
    "\n",
    "    Arguments:\n",
    "    dA -- post-activation gradient, of any shape\n",
    "    cache -- 'Z' where we store for computing backward propagation efficiently\n",
    "\n",
    "    Returns:\n",
    "    dZ -- Gradient of the cost with respect to Z\n",
    "    \"\"\"\n",
    "    \n",
    "    Z = cache\n",
    "    \n",
    "    s, _ = sigmoid(Z)\n",
    "    dZ = dA * s * (1-s)\n",
    "    \n",
    "    assert (dZ.shape == Z.shape)\n",
    "    \n",
    "    return dZ"
   ]
  },
  {
   "cell_type": "markdown",
   "metadata": {},
   "source": [
    "#### 2-layer (tanh)\n",
    "+ differential\n",
    "$$ a^{[2]}_i = tanh(Z^{[2]}_i) = \\frac{1 - e^{Z^{[2]}_i}}{1 + e^{Z^{[2]}_i}} $$"
   ]
  },
  {
   "cell_type": "markdown",
   "metadata": {},
   "source": [
    "$$ g^{[2]'}(Z^{[2]}_i) = \\frac{\\partial a^{[2]}_i}{\\partial Z^{[2]}_i} = (1 - \\frac{1 - e^{Z^{[2]}_i}}{1 + e^{Z^{[2]}_i}})(1 + \\frac{1 - e^{Z^{[2]}_i}}{1 + e^{Z^{[2]}_i}}) = (1 - a^{[2]}_i)(1 + a^{[2]}_i)$$"
   ]
  },
  {
   "cell_type": "markdown",
   "metadata": {},
   "source": [
    "+ input\n",
    "$$ da^{[2]} = \\frac{\\partial L}{\\partial a^{[2]}_i} = W^{[3]T} \\bullet dZ^{[3]}_i  $$"
   ]
  },
  {
   "cell_type": "markdown",
   "metadata": {},
   "source": [
    "+ output\n",
    "$$ dZ^{[2]}_i = \\frac{\\partial L}{\\partial a^{[2]}_i}\\frac{\\partial a^{[2]}_i}{\\partial Z^{[2]}_i} = W^{[3]T} \\bullet dZ^{[3]}_i * (1 - a^{[2]}_i)(1 + a^{[2]}_i)$$"
   ]
  },
  {
   "cell_type": "markdown",
   "metadata": {},
   "source": [
    "$$ da^{[1]} = W^{[2]T} \\bullet dZ^{[2]}_i  $$"
   ]
  },
  {
   "cell_type": "markdown",
   "metadata": {},
   "source": [
    "$$ dW^{[2]} = dZ^{[2]}_i * a^{[1]}$$"
   ]
  },
  {
   "cell_type": "markdown",
   "metadata": {},
   "source": [
    "$$ db^{[2]} = dZ^{[2]}_i $$"
   ]
  },
  {
   "cell_type": "code",
   "execution_count": 57,
   "metadata": {},
   "outputs": [],
   "source": [
    "def tanh_backward(dA, cache):\n",
    "    \"\"\"\n",
    "    Implement the backward propagation for a single Tanh unit.\n",
    "\n",
    "    Arguments:\n",
    "    dA -- post-activation gradient, of any shape\n",
    "    cache -- 'Z' where we store for computing backward propagation efficiently\n",
    "\n",
    "    Returns:\n",
    "    dZ -- Gradient of the cost with respect to Z\n",
    "    \"\"\"\n",
    "    \n",
    "    Z = cache\n",
    "    \n",
    "    t = np.tanh(Z)\n",
    "    dZ = dA * (1 - t) * (1 + t)\n",
    "    \n",
    "    assert (dZ.shape == Z.shape)\n",
    "    \n",
    "    return dZ"
   ]
  },
  {
   "cell_type": "markdown",
   "metadata": {},
   "source": [
    "#### 1-layer (relu)\n",
    "+ differential\n",
    "\n",
    "$$ a^{[1]}_i = max({0, Z^{[1]}_i})$$"
   ]
  },
  {
   "cell_type": "markdown",
   "metadata": {},
   "source": [
    "$$ g^{[1]'}(Z^{[1]}_i) = \\frac{\\partial a^{[1]}_i}{\\partial Z^{[1]}_i} =\\begin{cases}\n",
    "0, & \\mbox{if }Z^{[1]}_i \\le 0 \\\\\n",
    "1, & \\mbox{if }Z^{[1]}_i > 0\n",
    "\\end{cases}$$"
   ]
  },
  {
   "cell_type": "markdown",
   "metadata": {},
   "source": [
    "+ input\n",
    "$$ da^{[1]} = W^{[2]T} \\bullet dZ^{[2]}_i  $$"
   ]
  },
  {
   "cell_type": "markdown",
   "metadata": {},
   "source": [
    "+ output\n",
    "$$ dZ^{[1]}_i = \\frac{\\partial L}{\\partial a^{[1]}_i}\\frac{\\partial a^{[1]}_i}{\\partial Z^{[1]}_i} = \\begin{cases}\n",
    "0, & \\mbox{if }Z^{[1]}_i \\le 0 \\\\\n",
    " W^{[2]T} \\bullet dZ^{[2]}_i, & \\mbox{if }Z^{[1]}_i > 0\n",
    "\\end{cases}$$"
   ]
  },
  {
   "cell_type": "markdown",
   "metadata": {},
   "source": [
    "$$ da^{[0]} = W^{[1]T} \\bullet dZ^{[1]}_i  $$"
   ]
  },
  {
   "cell_type": "markdown",
   "metadata": {},
   "source": [
    "$$ dW^{[1]} = dZ^{[1]}_i * a^{[0]}$$"
   ]
  },
  {
   "cell_type": "markdown",
   "metadata": {},
   "source": [
    "$$ db^{[1]} = dZ^{[1]}_i $$"
   ]
  },
  {
   "cell_type": "code",
   "execution_count": 58,
   "metadata": {},
   "outputs": [],
   "source": [
    "def relu_backward(dA, cache):\n",
    "    \"\"\"\n",
    "    Implement the backward propagation for a single RELU unit.\n",
    "\n",
    "    Arguments:\n",
    "    dA -- post-activation gradient, of any shape\n",
    "    cache -- 'Z' where we store for computing backward propagation efficiently\n",
    "\n",
    "    Returns:\n",
    "    dZ -- Gradient of the cost with respect to Z\n",
    "    \"\"\"\n",
    "    \n",
    "    Z = cache\n",
    "    dZ = np.array(dA, copy=True) # just converting dz to a correct object.\n",
    "    \n",
    "    # When z <= 0, you should set dz to 0 as well. \n",
    "    dZ[Z <= 0] = 0\n",
    "    \n",
    "    assert (dZ.shape == Z.shape)\n",
    "    \n",
    "    return dZ"
   ]
  },
  {
   "cell_type": "code",
   "execution_count": 59,
   "metadata": {},
   "outputs": [],
   "source": [
    "def linear_activation_backward(dA, cache, activation):\n",
    "    \"\"\"\n",
    "    Implement the backward propagation for the LINEAR->ACTIVATION layer.\n",
    "    \n",
    "    Arguments:\n",
    "    dA -- post-activation gradient for current layer l \n",
    "    cache -- tuple of values (linear_cache, activation_cache) we store for computing backward propagation efficiently\n",
    "    activation -- the activation to be used in this layer, stored as a text string: \"sigmoid\" or \"relu\" or \"tanh\" or \"softmax\"\n",
    "    \n",
    "    Returns:\n",
    "    dA_prev -- Gradient of the cost with respect to the activation (of the previous layer l-1), same shape as A_prev\n",
    "    dW -- Gradient of the cost with respect to W (current layer l), same shape as W\n",
    "    db -- Gradient of the cost with respect to b (current layer l), same shape as b\n",
    "    \"\"\"\n",
    "    linear_cache, activation_cache = cache\n",
    "    \n",
    "    if activation == \"relu\":\n",
    "        dZ = relu_backward(dA, activation_cache)\n",
    "        dA_prev, dW, db = linear_backward(dZ, linear_cache)\n",
    "        \n",
    "    elif activation == \"sigmoid\":\n",
    "        dZ = sigmoid_backward(dA, activation_cache)\n",
    "        dA_prev, dW, db = linear_backward(dZ, linear_cache)\n",
    "        \n",
    "    elif activation == \"tanh\":\n",
    "        dZ = tanh_backward(dA, activation_cache)\n",
    "        dA_prev, dW, db = linear_backward(dZ, linear_cache)\n",
    "        \n",
    "    elif activation == \"softmax\":\n",
    "        dZ = softmax_backward(dA, activation_cache)\n",
    "        dA_prev, dW, db = linear_backward(dZ, linear_cache)\n",
    "    \n",
    "    return dA_prev, dW, db"
   ]
  },
  {
   "cell_type": "code",
   "execution_count": 60,
   "metadata": {},
   "outputs": [],
   "source": [
    "dA_prev, dW, db = linear_activation_backward(dA=A4 - dfY, cache=caches[3], activation='softmax')\n",
    "# dA_prev, dW, db"
   ]
  },
  {
   "cell_type": "code",
   "execution_count": 61,
   "metadata": {},
   "outputs": [],
   "source": [
    "def L_model_backward(AL, Y, caches):\n",
    "    \"\"\"\n",
    "    Implement the backward propagation for the LINEAR -> RELU -> LINEAR  TANH -> LINEAR -> SIGMOID -> LINEAR -> SOFTMAX group\n",
    "    \n",
    "    Arguments:\n",
    "    AL -- probability vector, output of the forward propagation (L_model_forward())\n",
    "    Y -- ture\"label\" numpy ndarray\n",
    "    caches -- list of caches containing:\n",
    "                every cache of linear_activation_forward() with \"relu\" (it's caches[l], for l in range(L-1) i.e l = 0...L-2)\n",
    "                the cache of linear_activation_forward() with \"sigmoid\" (it's caches[L-1])\n",
    "    \n",
    "    Returns:\n",
    "    grads -- A dictionary with the gradients\n",
    "             grads[\"dA\" + str(l)] = ... \n",
    "             grads[\"dW\" + str(l)] = ...\n",
    "             grads[\"db\" + str(l)] = ... \n",
    "    \"\"\"\n",
    "    grads = {}\n",
    "    L = len(caches)         \n",
    "    m = AL.shape[1]\n",
    "    Y = Y.reshape(AL.shape) \n",
    "    \n",
    "    # Initializing the backpropagation\n",
    "    dAL = AL - dfY\n",
    "    \n",
    "    current_cache = caches[L-1]\n",
    "    grads[\"dA\" + str(L - 1)], grads[\"dW\" + str(L)], grads[\"db\" + str(L)] = linear_activation_backward(dAL, current_cache, activation = \"softmax\")\n",
    "    \n",
    "#     for l, act_func in zip(reversed(range(L-1)), ['sigmoid', 'tanh', 'relu']):\n",
    "    for l in reversed(range(L-1)):\n",
    "        current_cache = caches[l]\n",
    "#         dA_prev_temp, dW_temp, db_temp = linear_activation_backward(grads[\"dA\"+str(l + 1)], current_cache, activation = act_func)\n",
    "        dA_prev_temp, dW_temp, db_temp = linear_activation_backward(grads[\"dA\"+str(l + 1)], current_cache, activation = 'relu')\n",
    "        grads[\"dA\" + str(l)] = dA_prev_temp\n",
    "        grads[\"dW\" + str(l + 1)] = dW_temp\n",
    "        grads[\"db\" + str(l + 1)] = db_temp\n",
    "\n",
    "    return grads"
   ]
  },
  {
   "cell_type": "code",
   "execution_count": 62,
   "metadata": {},
   "outputs": [],
   "source": [
    "grads = L_model_backward(A4, dfY, caches)\n",
    "# grads"
   ]
  },
  {
   "cell_type": "code",
   "execution_count": 63,
   "metadata": {},
   "outputs": [],
   "source": [
    "def update_parameters(parameters, grads, learning_rate):\n",
    "    \"\"\"\n",
    "    Update parameters using gradient descent\n",
    "    \n",
    "    Arguments:\n",
    "    parameters -- python dictionary containing your parameters \n",
    "    grads -- python dictionary containing your gradients, output of L_model_backward\n",
    "    \n",
    "    Returns:\n",
    "    parameters -- python dictionary containing your updated parameters \n",
    "                  parameters[\"W\" + str(l)] = ... \n",
    "                  parameters[\"b\" + str(l)] = ...\n",
    "    \"\"\"\n",
    "    \n",
    "    L = len(parameters) // 2 \n",
    "\n",
    "    for l in range(L):\n",
    "        parameters[\"W\" + str(l+1)] = parameters[\"W\" + str(l+1)] - learning_rate * grads[\"dW\" + str(l + 1)]\n",
    "        parameters[\"b\" + str(l+1)] = parameters[\"b\" + str(l+1)] - learning_rate * grads[\"db\" + str(l + 1)]\n",
    "        \n",
    "    return parameters"
   ]
  },
  {
   "cell_type": "code",
   "execution_count": 64,
   "metadata": {},
   "outputs": [],
   "source": [
    "parameters = update_parameters(parameters, grads, learning_rate=0.02)\n",
    "# parameters"
   ]
  },
  {
   "cell_type": "markdown",
   "metadata": {},
   "source": [
    "# modeling"
   ]
  },
  {
   "cell_type": "code",
   "execution_count": 65,
   "metadata": {},
   "outputs": [],
   "source": [
    "def L_layer_model(dfX, dfY, learning_rate = 0.0075, num_iterations = 3000, print_cost=False):\n",
    "    \"\"\"\n",
    "    Implements a L-layer neural network: LINEAR -> RELU -> LINEAR  TANH -> LINEAR -> SIGMOID -> LINEAR -> SOFTMAX.\n",
    "    \n",
    "    Arguments:\n",
    "    X -- data, numpy ndarray of shape (num_px * num_px, number of examples)\n",
    "    Y -- ture\"label\" numpy ndarray (containing 0, 1), of shape (10, number of examples)\n",
    "    layers_dims -- list containing the input size and each layer size, of length (number of layers + 1).\n",
    "    learning_rate -- learning rate of the gradient descent update rule\n",
    "    num_iterations -- number of iterations of the optimization loop\n",
    "    print_cost -- if True, it prints the cost every 100 steps\n",
    "    \n",
    "    Returns:\n",
    "    parameters -- parameters learnt by the model. They can then be used to predict.\n",
    "    \"\"\"\n",
    "\n",
    "    np.random.seed(1)\n",
    "    costs = []\n",
    "    \n",
    "    layers_dims = layer_sizes(dfX, dfY)\n",
    "    \n",
    "    parameters = initialize_parameters(layers_dims)\n",
    "    \n",
    "    for i in range(0, num_iterations):\n",
    "\n",
    "        AL, caches = L_model_forward(dfX, parameters)\n",
    "        \n",
    "        cost = compute_cost(AL, dfY)\n",
    "        \n",
    "        grads = L_model_backward(AL, dfY, caches)\n",
    "\n",
    "        parameters = update_parameters(parameters, grads, learning_rate)\n",
    "                \n",
    "        if print_cost and i % 100 == 0:\n",
    "            print(\"Cost after iteration %i: %f\" %(i, cost))\n",
    "            costs.append(cost)\n",
    "            \n",
    "    plt.plot(np.squeeze(costs))\n",
    "    plt.ylabel('cost')\n",
    "    plt.xlabel('iterations (per tens)')\n",
    "    plt.title(\"Learning rate =\" + str(learning_rate))\n",
    "    plt.show()\n",
    "    \n",
    "    return parameters"
   ]
  },
  {
   "cell_type": "code",
   "execution_count": 66,
   "metadata": {},
   "outputs": [
    {
     "name": "stdout",
     "output_type": "stream",
     "text": [
      "Cost after iteration 0: 2.389356\n",
      "Cost after iteration 100: 2.314593\n",
      "Cost after iteration 200: 2.253378\n",
      "Cost after iteration 300: 2.195998\n",
      "Cost after iteration 400: 2.137847\n",
      "Cost after iteration 500: 2.075824\n",
      "Cost after iteration 600: 2.007432\n",
      "Cost after iteration 700: 1.930500\n",
      "Cost after iteration 800: 1.843955\n",
      "Cost after iteration 900: 1.748280\n",
      "Cost after iteration 1000: 1.646050\n",
      "Cost after iteration 1100: 1.542595\n",
      "Cost after iteration 1200: 1.450317\n",
      "Cost after iteration 1300: 1.393352\n",
      "Cost after iteration 1400: 1.437984\n"
     ]
    },
    {
     "data": {
      "image/png": "[encoded data removed]",
      "text/plain": [
       "<matplotlib.figure.Figure at 0x2ad88e5ceb8>"
      ]
     },
     "metadata": {},
     "output_type": "display_data"
    },
    {
     "name": "stdout",
     "output_type": "stream",
     "text": [
      "Wall time: 1h 2min 51s\n"
     ]
    }
   ],
   "source": [
    "%%time\n",
    "parameters = L_layer_model(dfX, dfY, learning_rate = 0.01, num_iterations = 1500, print_cost=True)"
   ]
  },
  {
   "cell_type": "code",
   "execution_count": 67,
   "metadata": {},
   "outputs": [
    {
     "data": {
      "text/plain": [
       "{'W1': array([[ 0.17640523,  0.04001572,  0.0978738 , ...,  0.05213037,\n",
       "          0.06119272, -0.13414967],\n",
       "        [ 0.04768984,  0.01484496,  0.05290452, ...,  0.00960042,\n",
       "         -0.00451133,  0.00791217],\n",
       "        [ 0.08505307, -0.08391242, -0.10117741, ..., -0.00722388,\n",
       "          0.03111244, -0.10783611],\n",
       "        ..., \n",
       "        [ 0.20717158, -0.03598082,  0.14251868, ...,  0.06307309,\n",
       "          0.0668623 , -0.08363482],\n",
       "        [-0.05782998, -0.06807925, -0.01028094, ..., -0.0820083 ,\n",
       "         -0.03597955,  0.01188161],\n",
       "        [-0.08078943, -0.06227641, -0.21208843, ..., -0.04559411,\n",
       "          0.10440344,  0.12773948]]),\n",
       " 'W2': array([[-0.05561074,  0.16656502,  0.02526298, ...,  0.0540604 ,\n",
       "         -0.03989539, -0.12331162],\n",
       "        [-0.04515199,  0.12251403, -0.19575366, ..., -0.0259569 ,\n",
       "          0.16258287,  0.0028884 ],\n",
       "        [ 0.15162653, -0.09606347, -0.04693365, ...,  0.04713492,\n",
       "         -0.14435164,  0.0500463 ],\n",
       "        ..., \n",
       "        [ 0.10885931,  0.16400169, -0.1432618 , ..., -0.01239922,\n",
       "         -0.14594951, -0.03409999],\n",
       "        [-0.01807147, -0.23439112, -0.1589087 , ...,  0.02212241,\n",
       "         -0.09819822, -0.06488312],\n",
       "        [-0.23687625, -0.01680258, -0.10872565, ..., -0.08163444,\n",
       "         -0.00425281, -0.17724282]]),\n",
       " 'W3': array([[ 0.02172263,  0.06869378,  0.00909691, ...,  0.00211189,\n",
       "         -0.04755143, -0.13265756],\n",
       "        [ 0.08569868, -0.07126135,  0.01610474, ...,  0.11021359,\n",
       "          0.04349769,  0.12139044],\n",
       "        [-0.10777561, -0.07175326,  0.01056753, ...,  0.13911072,\n",
       "          0.07998918,  0.06366829],\n",
       "        ..., \n",
       "        [ 0.03605863,  0.00953293,  0.01068805, ...,  0.01738729,\n",
       "          0.06573124,  0.07382772],\n",
       "        [-0.00696452,  0.0679671 , -0.1486248 , ..., -0.08928937,\n",
       "         -0.09244525, -0.00463551],\n",
       "        [ 0.00266718, -0.15518654,  0.00491139, ..., -0.12086849,\n",
       "          0.0330638 ,  0.14305871]]),\n",
       " 'W4': array([[  7.94436773e-02,  -1.00995720e-01,   8.86252180e-02, ...,\n",
       "           1.92375921e-01,   2.08979626e-01,  -3.11963533e-02],\n",
       "        [ -1.28932308e-02,   1.15800786e-01,  -9.47503212e-02, ...,\n",
       "          -1.31714715e-01,   1.77868749e-01,   7.77040179e-02],\n",
       "        [  1.96268323e-01,  -3.80411976e-02,  -2.34701780e-01, ...,\n",
       "           6.54540366e-02,   7.00062079e-02,   7.27088286e-02],\n",
       "        ..., \n",
       "        [ -5.64938201e-02,  -1.41906247e-04,  -1.59876316e-02, ...,\n",
       "           5.71271422e-02,  -1.46397931e-01,   1.35259899e-01],\n",
       "        [  2.50489153e-01,  -4.41389287e-02,   1.07672179e-01, ...,\n",
       "          -4.88652407e-02,  -1.88022991e-02,   7.04964942e-02],\n",
       "        [ -4.12193294e-02,   4.57239649e-02,   1.48129940e-01, ...,\n",
       "          -5.61992191e-02,   5.06181092e-03,   6.32705831e-02]]),\n",
       " 'b1': array([[ 0.00040558],\n",
       "        [ 0.00929921],\n",
       "        [-0.00140958],\n",
       "        [-0.00212878],\n",
       "        [-0.0003615 ],\n",
       "        [ 0.0138362 ],\n",
       "        [-0.00314564],\n",
       "        [-0.00166068],\n",
       "        [-0.01051055],\n",
       "        [ 0.01490054],\n",
       "        [-0.00260941],\n",
       "        [-0.00020247],\n",
       "        [ 0.02091231],\n",
       "        [ 0.00146636],\n",
       "        [ 0.01553116],\n",
       "        [ 0.01413614],\n",
       "        [ 0.02963387],\n",
       "        [ 0.00069108],\n",
       "        [ 0.01103812],\n",
       "        [ 0.01170354],\n",
       "        [ 0.00928109],\n",
       "        [-0.00642245],\n",
       "        [-0.00155146],\n",
       "        [ 0.00629621],\n",
       "        [ 0.0094363 ],\n",
       "        [ 0.0016194 ],\n",
       "        [ 0.02105517],\n",
       "        [-0.01154973],\n",
       "        [ 0.0056489 ],\n",
       "        [ 0.00344834],\n",
       "        [-0.00086902],\n",
       "        [ 0.00142353],\n",
       "        [ 0.00347061],\n",
       "        [-0.00588145],\n",
       "        [ 0.01314734],\n",
       "        [ 0.00483379],\n",
       "        [-0.00085298],\n",
       "        [ 0.00826682],\n",
       "        [ 0.01006604],\n",
       "        [ 0.02123769],\n",
       "        [-0.00290077],\n",
       "        [ 0.02166564],\n",
       "        [ 0.00613431],\n",
       "        [ 0.00568677],\n",
       "        [ 0.01366752],\n",
       "        [-0.01724168],\n",
       "        [-0.00566849],\n",
       "        [ 0.02336288],\n",
       "        [ 0.00506014],\n",
       "        [ 0.04596011],\n",
       "        [ 0.00182311],\n",
       "        [-0.0104341 ],\n",
       "        [ 0.00310278],\n",
       "        [ 0.00894366],\n",
       "        [-0.0006204 ],\n",
       "        [ 0.01299088],\n",
       "        [ 0.0139721 ],\n",
       "        [-0.00208326],\n",
       "        [ 0.01860931],\n",
       "        [ 0.03074427],\n",
       "        [ 0.01098655],\n",
       "        [ 0.001837  ],\n",
       "        [ 0.02566184],\n",
       "        [-0.00013589],\n",
       "        [ 0.00499765],\n",
       "        [ 0.01212286],\n",
       "        [ 0.01753883],\n",
       "        [ 0.02297507],\n",
       "        [-0.00028016],\n",
       "        [-0.00372372],\n",
       "        [-0.00441398],\n",
       "        [ 0.00384466],\n",
       "        [-0.00830201],\n",
       "        [-0.00303968],\n",
       "        [-0.00589762],\n",
       "        [ 0.04159797],\n",
       "        [-0.00327838],\n",
       "        [ 0.00540915],\n",
       "        [ 0.00290561],\n",
       "        [ 0.00393029],\n",
       "        [ 0.00538644],\n",
       "        [ 0.00527384],\n",
       "        [ 0.01424502],\n",
       "        [ 0.02684762],\n",
       "        [ 0.00426554],\n",
       "        [ 0.02948511],\n",
       "        [ 0.01836052],\n",
       "        [ 0.00687308],\n",
       "        [-0.00320088],\n",
       "        [ 0.00149217],\n",
       "        [ 0.00926887],\n",
       "        [ 0.00263893],\n",
       "        [-0.00164605],\n",
       "        [ 0.00239688],\n",
       "        [ 0.01396512],\n",
       "        [-0.00069971],\n",
       "        [ 0.00791008],\n",
       "        [ 0.00838944],\n",
       "        [ 0.02385639],\n",
       "        [ 0.00143215],\n",
       "        [ 0.00592016],\n",
       "        [-0.0040029 ],\n",
       "        [-0.00361573],\n",
       "        [-0.00307133],\n",
       "        [ 0.02014978],\n",
       "        [ 0.00907965],\n",
       "        [ 0.00775885],\n",
       "        [ 0.01182623],\n",
       "        [ 0.01308308],\n",
       "        [ 0.0123518 ],\n",
       "        [ 0.00268964],\n",
       "        [-0.00095123],\n",
       "        [ 0.01060847],\n",
       "        [ 0.00763163],\n",
       "        [ 0.02740455],\n",
       "        [ 0.00130441],\n",
       "        [-0.00252438],\n",
       "        [-0.00890069],\n",
       "        [-0.00315818],\n",
       "        [ 0.0167653 ],\n",
       "        [ 0.00019219],\n",
       "        [ 0.00083023],\n",
       "        [ 0.0049397 ],\n",
       "        [ 0.00025689],\n",
       "        [ 0.0198257 ],\n",
       "        [ 0.00135088],\n",
       "        [ 0.0163417 ],\n",
       "        [ 0.01009565]]),\n",
       " 'b2': array([[  4.40184116e-03],\n",
       "        [ -3.82050693e-03],\n",
       "        [  1.41721787e-02],\n",
       "        [  2.14029732e-02],\n",
       "        [ -1.70460836e-03],\n",
       "        [ -1.21116156e-03],\n",
       "        [ -3.95938228e-04],\n",
       "        [  1.10458738e-02],\n",
       "        [  2.75460563e-04],\n",
       "        [  2.29465127e-02],\n",
       "        [ -8.05155594e-03],\n",
       "        [  2.08465170e-03],\n",
       "        [  1.46550454e-05],\n",
       "        [  7.23488972e-03],\n",
       "        [  1.17297809e-03],\n",
       "        [ -3.12726966e-03],\n",
       "        [  7.02769020e-03],\n",
       "        [ -4.17199249e-03],\n",
       "        [ -3.79642563e-03],\n",
       "        [  2.35181178e-02],\n",
       "        [  1.74543276e-02],\n",
       "        [  8.73943022e-03],\n",
       "        [  8.52007178e-03],\n",
       "        [  1.36807940e-02],\n",
       "        [  8.95587870e-03],\n",
       "        [  8.75375271e-03],\n",
       "        [  1.30786815e-02],\n",
       "        [  1.15612894e-02],\n",
       "        [  1.90409928e-02],\n",
       "        [  1.07530165e-02],\n",
       "        [ -5.39057191e-03],\n",
       "        [  1.57958276e-02],\n",
       "        [  2.81194242e-03],\n",
       "        [  9.11040712e-03],\n",
       "        [  1.91129454e-05],\n",
       "        [  2.04057545e-02],\n",
       "        [  1.24835012e-02],\n",
       "        [  7.91368844e-04],\n",
       "        [  1.19203493e-02],\n",
       "        [  1.36656520e-02],\n",
       "        [ -1.69300225e-03],\n",
       "        [  6.83541947e-03],\n",
       "        [  2.64166946e-03],\n",
       "        [  3.89159529e-03],\n",
       "        [  2.08142832e-02],\n",
       "        [  9.79375398e-03],\n",
       "        [ -9.08855853e-03],\n",
       "        [ -4.95644740e-03],\n",
       "        [  2.01213946e-02],\n",
       "        [  1.05746596e-02],\n",
       "        [  1.37647388e-02],\n",
       "        [  1.12044903e-03],\n",
       "        [  2.96998652e-03],\n",
       "        [  6.73262853e-03],\n",
       "        [  4.47187820e-03],\n",
       "        [ -2.14445476e-03],\n",
       "        [  2.11716875e-02],\n",
       "        [ -3.08766579e-03],\n",
       "        [  1.58042204e-02],\n",
       "        [  1.16204730e-02],\n",
       "        [  5.26352164e-03],\n",
       "        [  2.36393460e-02],\n",
       "        [  6.35924114e-03],\n",
       "        [ -1.08625966e-02],\n",
       "        [ -4.87782679e-04],\n",
       "        [  2.09730760e-02],\n",
       "        [  2.15617826e-02],\n",
       "        [  2.27777386e-02],\n",
       "        [  1.25396638e-02],\n",
       "        [  4.08199912e-02],\n",
       "        [  8.20423253e-03],\n",
       "        [  3.63538277e-03],\n",
       "        [  1.20075341e-02],\n",
       "        [  6.68031220e-03],\n",
       "        [  1.22002330e-02],\n",
       "        [ -1.26994596e-03],\n",
       "        [ -5.46195525e-04],\n",
       "        [ -8.87805467e-03],\n",
       "        [ -9.50300607e-04],\n",
       "        [  3.84953698e-03],\n",
       "        [  4.94076169e-03],\n",
       "        [ -6.83519533e-03],\n",
       "        [  4.52218316e-03],\n",
       "        [  1.55639938e-02],\n",
       "        [ -2.85578080e-03],\n",
       "        [  1.13143882e-02],\n",
       "        [  1.49878663e-02],\n",
       "        [ -2.04134422e-03],\n",
       "        [  4.23796959e-03],\n",
       "        [  5.43561644e-03],\n",
       "        [  1.21807379e-02],\n",
       "        [  2.01792184e-03],\n",
       "        [  1.40776164e-02],\n",
       "        [  1.15704324e-03],\n",
       "        [  8.92797864e-03],\n",
       "        [ -2.12123110e-05],\n",
       "        [  4.56526959e-04],\n",
       "        [ -3.10823044e-03],\n",
       "        [  3.22932370e-02],\n",
       "        [ -1.44931625e-03],\n",
       "        [  1.24558121e-02],\n",
       "        [  6.81273300e-04],\n",
       "        [  2.59354949e-04],\n",
       "        [  1.60741806e-02],\n",
       "        [ -1.00757191e-02],\n",
       "        [ -7.21114784e-03],\n",
       "        [  4.88064257e-03],\n",
       "        [  6.87798168e-04],\n",
       "        [ -2.44384318e-03],\n",
       "        [  5.03453321e-03],\n",
       "        [  5.39197837e-03],\n",
       "        [  4.86435130e-03],\n",
       "        [  1.52581422e-02],\n",
       "        [  1.80528413e-03],\n",
       "        [  1.50669996e-02],\n",
       "        [  1.26961265e-02],\n",
       "        [  1.57049808e-02],\n",
       "        [  6.48740003e-03],\n",
       "        [  3.72897493e-04],\n",
       "        [ -9.77884282e-03],\n",
       "        [ -3.94176480e-03],\n",
       "        [  1.24033048e-02],\n",
       "        [  2.96385467e-03],\n",
       "        [  8.91468621e-04],\n",
       "        [  2.45957384e-03],\n",
       "        [  3.02307932e-03],\n",
       "        [  2.90516545e-04],\n",
       "        [ -1.77510467e-03]]),\n",
       " 'b3': array([[  4.66253979e-03],\n",
       "        [  1.10547332e-02],\n",
       "        [ -5.67874852e-03],\n",
       "        [  1.41732700e-02],\n",
       "        [  1.85164294e-02],\n",
       "        [  6.91841264e-03],\n",
       "        [ -3.11909611e-04],\n",
       "        [  5.06495336e-03],\n",
       "        [ -6.46201375e-04],\n",
       "        [ -1.18689540e-02],\n",
       "        [  6.67199534e-03],\n",
       "        [  1.05620291e-02],\n",
       "        [ -2.86037442e-03],\n",
       "        [ -2.80264871e-03],\n",
       "        [  3.28188751e-03],\n",
       "        [  1.75463306e-03],\n",
       "        [  3.22251558e-03],\n",
       "        [ -2.01923561e-03],\n",
       "        [  1.75739752e-02],\n",
       "        [  4.62457617e-03],\n",
       "        [  2.57538978e-02],\n",
       "        [  2.87799490e-02],\n",
       "        [ -6.78896417e-03],\n",
       "        [  7.23593222e-03],\n",
       "        [ -3.24909762e-03],\n",
       "        [ -2.12840588e-02],\n",
       "        [ -1.45259780e-03],\n",
       "        [  1.90886180e-02],\n",
       "        [  4.11662445e-05],\n",
       "        [ -1.50167725e-03],\n",
       "        [  1.09789075e-02],\n",
       "        [  5.45251155e-03],\n",
       "        [  3.09929830e-03],\n",
       "        [  2.29297159e-03],\n",
       "        [  2.32589659e-04],\n",
       "        [ -1.43317729e-03],\n",
       "        [  6.95875252e-03],\n",
       "        [  7.20344746e-04],\n",
       "        [  6.83917949e-03],\n",
       "        [  1.16537790e-02],\n",
       "        [  2.67932842e-03],\n",
       "        [  7.67952799e-03],\n",
       "        [ -1.33668775e-03],\n",
       "        [  1.88995469e-02],\n",
       "        [  5.77340770e-03],\n",
       "        [  5.50662399e-03],\n",
       "        [ -1.51011180e-03],\n",
       "        [ -4.94582354e-04],\n",
       "        [ -2.11387323e-03],\n",
       "        [  1.33685898e-02],\n",
       "        [  1.86221533e-02],\n",
       "        [ -1.03648104e-03],\n",
       "        [  1.20738854e-02],\n",
       "        [ -1.80336810e-03],\n",
       "        [ -5.69164505e-04],\n",
       "        [  5.16227904e-04],\n",
       "        [  2.00697691e-02],\n",
       "        [  1.18027550e-02],\n",
       "        [  7.29328967e-03],\n",
       "        [ -3.21216342e-03],\n",
       "        [  9.20995921e-05],\n",
       "        [  3.57119501e-03],\n",
       "        [ -1.44587493e-03],\n",
       "        [  3.14960267e-03],\n",
       "        [ -1.99120726e-04],\n",
       "        [ -6.81169645e-04],\n",
       "        [  5.56440306e-03],\n",
       "        [ -3.26417481e-03],\n",
       "        [ -5.60411937e-03],\n",
       "        [  1.29559240e-02],\n",
       "        [  2.75989858e-05],\n",
       "        [  4.16610678e-04],\n",
       "        [  3.32241650e-03],\n",
       "        [ -2.20536135e-03],\n",
       "        [ -2.80920466e-03],\n",
       "        [  7.27068017e-03],\n",
       "        [ -2.43718690e-03],\n",
       "        [  2.84773849e-02],\n",
       "        [ -6.00770182e-04],\n",
       "        [ -3.26089157e-03],\n",
       "        [  1.57003943e-04],\n",
       "        [ -2.03876387e-03],\n",
       "        [  3.48071333e-02],\n",
       "        [  4.85265233e-03],\n",
       "        [  2.14127571e-04],\n",
       "        [  3.20058322e-03],\n",
       "        [ -1.69889357e-03],\n",
       "        [ -3.02986802e-03],\n",
       "        [  3.75547344e-03],\n",
       "        [  3.50596376e-03],\n",
       "        [  1.08581788e-02],\n",
       "        [  7.76666515e-03],\n",
       "        [ -3.69688098e-05],\n",
       "        [  1.86695201e-02],\n",
       "        [  9.02875440e-03],\n",
       "        [  4.24093325e-03],\n",
       "        [  1.68165975e-02],\n",
       "        [  1.86592079e-02],\n",
       "        [  1.33110304e-02],\n",
       "        [ -9.13090827e-03],\n",
       "        [ -5.84465836e-03],\n",
       "        [ -7.67171719e-04],\n",
       "        [  7.19539623e-03],\n",
       "        [ -6.92467969e-03],\n",
       "        [  1.74844924e-02],\n",
       "        [  1.18086656e-02],\n",
       "        [  6.61402053e-04],\n",
       "        [  9.95087908e-03],\n",
       "        [ -6.30446536e-03],\n",
       "        [ -2.18453346e-03],\n",
       "        [ -3.63746615e-03],\n",
       "        [ -1.32236946e-02],\n",
       "        [  1.01100818e-02],\n",
       "        [  8.03968658e-03],\n",
       "        [  4.13737140e-03],\n",
       "        [  1.32482613e-02],\n",
       "        [  7.56185752e-03],\n",
       "        [  2.15392308e-03],\n",
       "        [ -1.43798102e-02],\n",
       "        [  2.74155928e-02],\n",
       "        [  6.85825743e-03],\n",
       "        [ -2.60808429e-03],\n",
       "        [  4.20704128e-04],\n",
       "        [  1.93638287e-02],\n",
       "        [ -9.67482816e-04],\n",
       "        [  7.51892326e-03],\n",
       "        [  3.30458829e-03],\n",
       "        [  1.64136816e-02]]),\n",
       " 'b4': array([[ 0.0059269 ],\n",
       "        [ 0.08827248],\n",
       "        [ 0.02480469],\n",
       "        [ 0.03976178],\n",
       "        [ 0.04137907],\n",
       "        [ 0.00882086],\n",
       "        [ 0.02803019],\n",
       "        [ 0.03887266],\n",
       "        [ 0.00765033],\n",
       "        [ 0.00899055]])}"
      ]
     },
     "execution_count": 67,
     "metadata": {},
     "output_type": "execute_result"
    }
   ],
   "source": [
    "parameters"
   ]
  },
  {
   "cell_type": "code",
   "execution_count": 68,
   "metadata": {},
   "outputs": [],
   "source": [
    "test, _ = L_model_forward(df_test, parameters)"
   ]
  },
  {
   "cell_type": "code",
   "execution_count": 69,
   "metadata": {},
   "outputs": [
    {
     "data": {
      "text/html": [
       "<div>\n",
       "<style>\n",
       "    .dataframe thead tr:only-child th {\n",
       "        text-align: right;\n",
       "    }\n",
       "\n",
       "    .dataframe thead th {\n",
       "        text-align: left;\n",
       "    }\n",
       "\n",
       "    .dataframe tbody tr th {\n",
       "        vertical-align: top;\n",
       "    }\n",
       "</style>\n",
       "<table border=\"1\" class=\"dataframe\">\n",
       "  <thead>\n",
       "    <tr style=\"text-align: right;\">\n",
       "      <th></th>\n",
       "      <th>0</th>\n",
       "      <th>1</th>\n",
       "      <th>2</th>\n",
       "      <th>3</th>\n",
       "      <th>4</th>\n",
       "      <th>5</th>\n",
       "      <th>6</th>\n",
       "      <th>7</th>\n",
       "      <th>8</th>\n",
       "      <th>9</th>\n",
       "      <th>...</th>\n",
       "      <th>27990</th>\n",
       "      <th>27991</th>\n",
       "      <th>27992</th>\n",
       "      <th>27993</th>\n",
       "      <th>27994</th>\n",
       "      <th>27995</th>\n",
       "      <th>27996</th>\n",
       "      <th>27997</th>\n",
       "      <th>27998</th>\n",
       "      <th>27999</th>\n",
       "    </tr>\n",
       "  </thead>\n",
       "  <tbody>\n",
       "    <tr>\n",
       "      <th>0</th>\n",
       "      <td>0.127222</td>\n",
       "      <td>0.795582</td>\n",
       "      <td>0.006293</td>\n",
       "      <td>0.016792</td>\n",
       "      <td>0.005211</td>\n",
       "      <td>0.006149</td>\n",
       "      <td>9.860838e-01</td>\n",
       "      <td>0.005361</td>\n",
       "      <td>0.871301</td>\n",
       "      <td>0.032114</td>\n",
       "      <td>...</td>\n",
       "      <td>0.008124</td>\n",
       "      <td>0.033227</td>\n",
       "      <td>0.035922</td>\n",
       "      <td>0.000526</td>\n",
       "      <td>0.016823</td>\n",
       "      <td>0.002201</td>\n",
       "      <td>0.007062</td>\n",
       "      <td>0.005247</td>\n",
       "      <td>0.004123</td>\n",
       "      <td>0.101726</td>\n",
       "    </tr>\n",
       "    <tr>\n",
       "      <th>1</th>\n",
       "      <td>0.000264</td>\n",
       "      <td>0.000056</td>\n",
       "      <td>0.051340</td>\n",
       "      <td>0.013763</td>\n",
       "      <td>0.032365</td>\n",
       "      <td>0.014147</td>\n",
       "      <td>8.211672e-07</td>\n",
       "      <td>0.001780</td>\n",
       "      <td>0.000046</td>\n",
       "      <td>0.114643</td>\n",
       "      <td>...</td>\n",
       "      <td>0.002437</td>\n",
       "      <td>0.003750</td>\n",
       "      <td>0.252197</td>\n",
       "      <td>0.016664</td>\n",
       "      <td>0.005761</td>\n",
       "      <td>0.003298</td>\n",
       "      <td>0.007122</td>\n",
       "      <td>0.018075</td>\n",
       "      <td>0.000735</td>\n",
       "      <td>0.000761</td>\n",
       "    </tr>\n",
       "    <tr>\n",
       "      <th>2</th>\n",
       "      <td>0.738120</td>\n",
       "      <td>0.101862</td>\n",
       "      <td>0.084623</td>\n",
       "      <td>0.224069</td>\n",
       "      <td>0.252956</td>\n",
       "      <td>0.061515</td>\n",
       "      <td>4.761573e-03</td>\n",
       "      <td>0.023450</td>\n",
       "      <td>0.036291</td>\n",
       "      <td>0.089986</td>\n",
       "      <td>...</td>\n",
       "      <td>0.049621</td>\n",
       "      <td>0.321214</td>\n",
       "      <td>0.137808</td>\n",
       "      <td>0.058139</td>\n",
       "      <td>0.033716</td>\n",
       "      <td>0.057281</td>\n",
       "      <td>0.046612</td>\n",
       "      <td>0.022991</td>\n",
       "      <td>0.018053</td>\n",
       "      <td>0.561306</td>\n",
       "    </tr>\n",
       "    <tr>\n",
       "      <th>3</th>\n",
       "      <td>0.025619</td>\n",
       "      <td>0.014486</td>\n",
       "      <td>0.126572</td>\n",
       "      <td>0.029872</td>\n",
       "      <td>0.244444</td>\n",
       "      <td>0.026673</td>\n",
       "      <td>2.215943e-03</td>\n",
       "      <td>0.859447</td>\n",
       "      <td>0.042833</td>\n",
       "      <td>0.518086</td>\n",
       "      <td>...</td>\n",
       "      <td>0.046746</td>\n",
       "      <td>0.021120</td>\n",
       "      <td>0.143883</td>\n",
       "      <td>0.010138</td>\n",
       "      <td>0.029737</td>\n",
       "      <td>0.060712</td>\n",
       "      <td>0.046957</td>\n",
       "      <td>0.708077</td>\n",
       "      <td>0.078136</td>\n",
       "      <td>0.066786</td>\n",
       "    </tr>\n",
       "    <tr>\n",
       "      <th>4</th>\n",
       "      <td>0.010059</td>\n",
       "      <td>0.001870</td>\n",
       "      <td>0.225041</td>\n",
       "      <td>0.190662</td>\n",
       "      <td>0.094084</td>\n",
       "      <td>0.131309</td>\n",
       "      <td>2.168860e-04</td>\n",
       "      <td>0.023425</td>\n",
       "      <td>0.005105</td>\n",
       "      <td>0.063234</td>\n",
       "      <td>...</td>\n",
       "      <td>0.148169</td>\n",
       "      <td>0.021160</td>\n",
       "      <td>0.096055</td>\n",
       "      <td>0.369509</td>\n",
       "      <td>0.088599</td>\n",
       "      <td>0.234281</td>\n",
       "      <td>0.169580</td>\n",
       "      <td>0.057915</td>\n",
       "      <td>0.187470</td>\n",
       "      <td>0.049368</td>\n",
       "    </tr>\n",
       "    <tr>\n",
       "      <th>5</th>\n",
       "      <td>0.000008</td>\n",
       "      <td>0.000006</td>\n",
       "      <td>0.000250</td>\n",
       "      <td>0.000582</td>\n",
       "      <td>0.000247</td>\n",
       "      <td>0.000060</td>\n",
       "      <td>7.328601e-07</td>\n",
       "      <td>0.000007</td>\n",
       "      <td>0.000009</td>\n",
       "      <td>0.001332</td>\n",
       "      <td>...</td>\n",
       "      <td>0.000010</td>\n",
       "      <td>0.000045</td>\n",
       "      <td>0.013040</td>\n",
       "      <td>0.000011</td>\n",
       "      <td>0.000152</td>\n",
       "      <td>0.000003</td>\n",
       "      <td>0.000234</td>\n",
       "      <td>0.000031</td>\n",
       "      <td>0.000002</td>\n",
       "      <td>0.000011</td>\n",
       "    </tr>\n",
       "    <tr>\n",
       "      <th>6</th>\n",
       "      <td>0.067523</td>\n",
       "      <td>0.075731</td>\n",
       "      <td>0.052223</td>\n",
       "      <td>0.070557</td>\n",
       "      <td>0.087171</td>\n",
       "      <td>0.020301</td>\n",
       "      <td>5.572475e-03</td>\n",
       "      <td>0.009601</td>\n",
       "      <td>0.016456</td>\n",
       "      <td>0.083706</td>\n",
       "      <td>...</td>\n",
       "      <td>0.007804</td>\n",
       "      <td>0.520171</td>\n",
       "      <td>0.103351</td>\n",
       "      <td>0.008672</td>\n",
       "      <td>0.009327</td>\n",
       "      <td>0.025490</td>\n",
       "      <td>0.012753</td>\n",
       "      <td>0.005897</td>\n",
       "      <td>0.005477</td>\n",
       "      <td>0.077275</td>\n",
       "    </tr>\n",
       "    <tr>\n",
       "      <th>7</th>\n",
       "      <td>0.003959</td>\n",
       "      <td>0.002750</td>\n",
       "      <td>0.114890</td>\n",
       "      <td>0.198534</td>\n",
       "      <td>0.142711</td>\n",
       "      <td>0.529252</td>\n",
       "      <td>7.497224e-05</td>\n",
       "      <td>0.030022</td>\n",
       "      <td>0.003982</td>\n",
       "      <td>0.036934</td>\n",
       "      <td>...</td>\n",
       "      <td>0.477532</td>\n",
       "      <td>0.003153</td>\n",
       "      <td>0.043807</td>\n",
       "      <td>0.279602</td>\n",
       "      <td>0.584564</td>\n",
       "      <td>0.267273</td>\n",
       "      <td>0.478408</td>\n",
       "      <td>0.077928</td>\n",
       "      <td>0.076533</td>\n",
       "      <td>0.020900</td>\n",
       "    </tr>\n",
       "    <tr>\n",
       "      <th>8</th>\n",
       "      <td>0.018928</td>\n",
       "      <td>0.003554</td>\n",
       "      <td>0.263456</td>\n",
       "      <td>0.151174</td>\n",
       "      <td>0.088093</td>\n",
       "      <td>0.034527</td>\n",
       "      <td>7.178981e-04</td>\n",
       "      <td>0.034894</td>\n",
       "      <td>0.017205</td>\n",
       "      <td>0.043435</td>\n",
       "      <td>...</td>\n",
       "      <td>0.043949</td>\n",
       "      <td>0.066229</td>\n",
       "      <td>0.125177</td>\n",
       "      <td>0.080939</td>\n",
       "      <td>0.022798</td>\n",
       "      <td>0.046559</td>\n",
       "      <td>0.041929</td>\n",
       "      <td>0.075274</td>\n",
       "      <td>0.162873</td>\n",
       "      <td>0.065352</td>\n",
       "    </tr>\n",
       "    <tr>\n",
       "      <th>9</th>\n",
       "      <td>0.008299</td>\n",
       "      <td>0.004103</td>\n",
       "      <td>0.075311</td>\n",
       "      <td>0.103995</td>\n",
       "      <td>0.052717</td>\n",
       "      <td>0.176067</td>\n",
       "      <td>3.549069e-04</td>\n",
       "      <td>0.012013</td>\n",
       "      <td>0.006772</td>\n",
       "      <td>0.016530</td>\n",
       "      <td>...</td>\n",
       "      <td>0.215607</td>\n",
       "      <td>0.009930</td>\n",
       "      <td>0.048759</td>\n",
       "      <td>0.175799</td>\n",
       "      <td>0.208522</td>\n",
       "      <td>0.302902</td>\n",
       "      <td>0.189344</td>\n",
       "      <td>0.028566</td>\n",
       "      <td>0.466598</td>\n",
       "      <td>0.056514</td>\n",
       "    </tr>\n",
       "  </tbody>\n",
       "</table>\n",
       "<p>10 rows × 28000 columns</p>\n",
       "</div>"
      ],
      "text/plain": [
       "      0         1         2         3         4         5             6      \\\n",
       "0  0.127222  0.795582  0.006293  0.016792  0.005211  0.006149  9.860838e-01   \n",
       "1  0.000264  0.000056  0.051340  0.013763  0.032365  0.014147  8.211672e-07   \n",
       "2  0.738120  0.101862  0.084623  0.224069  0.252956  0.061515  4.761573e-03   \n",
       "3  0.025619  0.014486  0.126572  0.029872  0.244444  0.026673  2.215943e-03   \n",
       "4  0.010059  0.001870  0.225041  0.190662  0.094084  0.131309  2.168860e-04   \n",
       "5  0.000008  0.000006  0.000250  0.000582  0.000247  0.000060  7.328601e-07   \n",
       "6  0.067523  0.075731  0.052223  0.070557  0.087171  0.020301  5.572475e-03   \n",
       "7  0.003959  0.002750  0.114890  0.198534  0.142711  0.529252  7.497224e-05   \n",
       "8  0.018928  0.003554  0.263456  0.151174  0.088093  0.034527  7.178981e-04   \n",
       "9  0.008299  0.004103  0.075311  0.103995  0.052717  0.176067  3.549069e-04   \n",
       "\n",
       "      7         8         9        ...        27990     27991     27992  \\\n",
       "0  0.005361  0.871301  0.032114    ...     0.008124  0.033227  0.035922   \n",
       "1  0.001780  0.000046  0.114643    ...     0.002437  0.003750  0.252197   \n",
       "2  0.023450  0.036291  0.089986    ...     0.049621  0.321214  0.137808   \n",
       "3  0.859447  0.042833  0.518086    ...     0.046746  0.021120  0.143883   \n",
       "4  0.023425  0.005105  0.063234    ...     0.148169  0.021160  0.096055   \n",
       "5  0.000007  0.000009  0.001332    ...     0.000010  0.000045  0.013040   \n",
       "6  0.009601  0.016456  0.083706    ...     0.007804  0.520171  0.103351   \n",
       "7  0.030022  0.003982  0.036934    ...     0.477532  0.003153  0.043807   \n",
       "8  0.034894  0.017205  0.043435    ...     0.043949  0.066229  0.125177   \n",
       "9  0.012013  0.006772  0.016530    ...     0.215607  0.009930  0.048759   \n",
       "\n",
       "      27993     27994     27995     27996     27997     27998     27999  \n",
       "0  0.000526  0.016823  0.002201  0.007062  0.005247  0.004123  0.101726  \n",
       "1  0.016664  0.005761  0.003298  0.007122  0.018075  0.000735  0.000761  \n",
       "2  0.058139  0.033716  0.057281  0.046612  0.022991  0.018053  0.561306  \n",
       "3  0.010138  0.029737  0.060712  0.046957  0.708077  0.078136  0.066786  \n",
       "4  0.369509  0.088599  0.234281  0.169580  0.057915  0.187470  0.049368  \n",
       "5  0.000011  0.000152  0.000003  0.000234  0.000031  0.000002  0.000011  \n",
       "6  0.008672  0.009327  0.025490  0.012753  0.005897  0.005477  0.077275  \n",
       "7  0.279602  0.584564  0.267273  0.478408  0.077928  0.076533  0.020900  \n",
       "8  0.080939  0.022798  0.046559  0.041929  0.075274  0.162873  0.065352  \n",
       "9  0.175799  0.208522  0.302902  0.189344  0.028566  0.466598  0.056514  \n",
       "\n",
       "[10 rows x 28000 columns]"
      ]
     },
     "execution_count": 69,
     "metadata": {},
     "output_type": "execute_result"
    }
   ],
   "source": [
    "pd.DataFrame(test)"
   ]
  },
  {
   "cell_type": "code",
   "execution_count": 70,
   "metadata": {},
   "outputs": [],
   "source": [
    "# test = pd.DataFrame(pd.DataFrame(test).idxmax(), columns=['Label'])\n",
    "# test.index.name='ImageId'\n",
    "# test.index += 1 \n",
    "# test"
   ]
  },
  {
   "cell_type": "code",
   "execution_count": 72,
   "metadata": {},
   "outputs": [],
   "source": [
    "# test.to_csv('test.csv')"
   ]
  },
  {
   "cell_type": "code",
   "execution_count": null,
   "metadata": {},
   "outputs": [],
   "source": []
  }
 ],
 "metadata": {
  "kernelspec": {
   "display_name": "Python 3",
   "language": "python",
   "name": "python3"
  },
  "language_info": {
   "codemirror_mode": {
    "name": "ipython",
    "version": 3
   },
   "file_extension": ".py",
   "mimetype": "text/x-python",
   "name": "python",
   "nbconvert_exporter": "python",
   "pygments_lexer": "ipython3",
   "version": "3.6.2"
  }
 },
 "nbformat": 4,
 "nbformat_minor": 2
}
